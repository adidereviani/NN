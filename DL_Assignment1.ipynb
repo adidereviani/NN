{
  "nbformat": 4,
  "nbformat_minor": 0,
  "metadata": {
    "colab": {
      "provenance": []
    },
    "kernelspec": {
      "name": "python3",
      "display_name": "Python 3"
    }
  },
  "cells": [
    {
      "cell_type": "markdown",
      "source": [
        "# Students:"
      ],
      "metadata": {
        "id": "tszChX4kNBxA"
      }
    },
    {
      "cell_type": "markdown",
      "source": [
        "# Adi Dereviani - 305674731\n",
        "# Stav Cohen - 316492776"
      ],
      "metadata": {
        "id": "2R5i4XpcNFMv"
      }
    },
    {
      "cell_type": "markdown",
      "metadata": {
        "id": "SE6qcw_j8Pi2"
      },
      "source": [
        "In this homework assignment, you are requested to implement a full backprop algorithm using only *numpy*.\n",
        "\n",
        "- We assume sigmoid activation across all layers.\n",
        "- We assume a single value in the output layer"
      ]
    },
    {
      "cell_type": "code",
      "metadata": {
        "id": "UV4RvXYL8k85"
      },
      "source": [
        "import numpy as np\n",
        "import pandas as pd\n",
        "import matplotlib.pyplot as plt\n",
        "from sklearn.linear_model import LogisticRegression\n",
        "from sklearn.model_selection import train_test_split\n",
        "from sklearn.utils import shuffle\n",
        "from sklearn.metrics import classification_report\n",
        "from sklearn.metrics import confusion_matrix, ConfusionMatrixDisplay\n",
        "import warnings\n",
        "from sklearn.exceptions import UndefinedMetricWarning\n",
        "warnings.filterwarnings(\"ignore\", category=UndefinedMetricWarning)\n",
        "np.random.seed(40)"
      ],
      "execution_count": 1,
      "outputs": []
    },
    {
      "cell_type": "markdown",
      "metadata": {
        "id": "SRml6glFIPCa"
      },
      "source": [
        "The following class represents a simple feed forward network with multiple layers. The network class provides methods for running forward and backward for a single instance, throught the network. You should implement the methods (indicated with TODO), that performs forward and backward for an entire batch. Note, the idea is to use matrix multiplications, and not running standard loops over the instances in the batch."
      ]
    },
    {
      "cell_type": "code",
      "metadata": {
        "id": "kLdNoCt58qg5"
      },
      "source": [
        "class MyNN:\n",
        "  def __init__(self, learning_rate, layer_sizes):\n",
        "    '''\n",
        "    learning_rate - the learning to use in backward\n",
        "    layer_sizes - a list of numbers, each number repreents the nuber of neurons\n",
        "                  to have in every layer. Therfore, the length of the list\n",
        "                  represents the number layers this network has.\n",
        "    '''\n",
        "    self.learning_rate = learning_rate\n",
        "    self.layer_sizes = layer_sizes\n",
        "    self.model_params = {}\n",
        "    self.memory = {}\n",
        "    self.grads = {}\n",
        "\n",
        "    # Initializing weights\n",
        "    for layer_index in range(len(layer_sizes) - 1):\n",
        "      W_input = layer_sizes[layer_index + 1]\n",
        "      W_output = layer_sizes[layer_index]\n",
        "      self.model_params['W_' + str(layer_index + 1)] = np.random.randn(W_input, W_output) * 0.1\n",
        "      self.model_params['b_' + str(layer_index + 1)] = np.random.randn(W_input) * 0.1\n",
        "\n",
        "\n",
        "  def forward_single_instance(self, x):\n",
        "    a_i_1 = x\n",
        "    self.memory['a_0'] = x\n",
        "    for layer_index in range(len(self.layer_sizes) - 1):\n",
        "      W_i = self.model_params['W_' + str(layer_index + 1)]\n",
        "      b_i = self.model_params['b_' + str(layer_index + 1)]\n",
        "      z_i = np.dot(W_i, a_i_1) + b_i\n",
        "      a_i = 1/(1+np.exp(-z_i))\n",
        "      self.memory['a_' + str(layer_index + 1)] = a_i\n",
        "      a_i_1 = a_i\n",
        "    return a_i_1\n",
        "\n",
        "\n",
        "  def log_loss(y_hat, y):\n",
        "    '''\n",
        "    Logistic loss, assuming a single value in y_hat and y.\n",
        "    '''\n",
        "    cost = -y[0]*np.log(y_hat[0]) - (1 - y[0])*np.log(1 - y_hat[0])\n",
        "    return cost\n",
        "\n",
        "\n",
        "  def backward_single_instance(self, y):\n",
        "    a_output = self.memory['a_' + str(len(self.layer_sizes) - 1)]\n",
        "    dz = a_output - y\n",
        "\n",
        "    for layer_index in range(len(self.layer_sizes) - 1, 0, -1):\n",
        "      print(layer_index)\n",
        "      a_l_1 = self.memory['a_' + str(layer_index - 1)]\n",
        "      dW = np.dot(dz.reshape(-1, 1), a_l_1.reshape(1, -1))\n",
        "      self.grads['dW_' + str(layer_index)] = dW\n",
        "      W_l = self.model_params['W_' + str(layer_index)]\n",
        "      dz = (a_l_1 * (1 - a_l_1)).reshape(-1, 1) * np.dot(W_l.T, dz.reshape(-1, 1))\n",
        "      db = dz # DONE\n",
        "      self.grads['db_' + str(layer_index)] = db # DONE\n",
        "\n",
        "  def update(self):\n",
        "    \"\"\"\n",
        "    Apply gradient descent step to update model parameters.\n",
        "\n",
        "    Uses:\n",
        "        self.grads (dict): Gradients of weights and biases\n",
        "        self.learning_rate (float): Learning rate for gradient descent\n",
        "\n",
        "    Modifies:\n",
        "        self.model_params (dict): Updates weights and biases in-place\n",
        "    \"\"\"\n",
        "    for idx in range(len(self.layer_sizes) - 1):\n",
        "        self.model_params[f'W_{idx + 1}'] -= self.learning_rate * self.grads[f'dW_{idx + 1}']\n",
        "        self.model_params[f'b_{idx + 1}'] -= self.learning_rate * self.grads[f'db_{idx + 1}']\n",
        "\n",
        "\n",
        "  def forward_batch(self, X):\n",
        "    \"\"\"\n",
        "    Execute forward propagation over the entire network for a batch input.\n",
        "\n",
        "    Args:\n",
        "        X (np.ndarray): Input data of shape (input_size, batch_size)\n",
        "\n",
        "    Returns:\n",
        "        np.ndarray: Output of the final layer, shape (output_size, batch_size)\n",
        "    \"\"\"\n",
        "    activation = X\n",
        "    self.memory['A_0'] = X\n",
        "    for idx, _ in enumerate(self.layer_sizes[:-1]):\n",
        "        W = self.model_params[f'W_{idx + 1}']\n",
        "        b = self.model_params[f'b_{idx + 1}']\n",
        "        Z = W @ activation + b.reshape(-1, 1)\n",
        "        activation = 1 / (1 + np.exp(-Z))\n",
        "        self.memory[f'A_{idx + 1}'] = activation\n",
        "    return activation\n",
        "\n",
        "\n",
        "  def backward_batch(self, y):\n",
        "    \"\"\"\n",
        "    Execute backward propagation to compute gradients for a batch of targets.\n",
        "\n",
        "    Args:\n",
        "        y (np.ndarray): True labels of shape (1, batch_size)\n",
        "\n",
        "    Modifies:\n",
        "        self.grads (dict): Stores computed gradients for weights and biases\n",
        "    \"\"\"\n",
        "    A_output = self.memory[f'A_{len(self.layer_sizes) - 1}']\n",
        "    dZ = A_output - y\n",
        "    m = y.shape[1]\n",
        "\n",
        "    for idx in reversed(range(1, len(self.layer_sizes))):\n",
        "        A_prev = self.memory[f'A_{idx - 1}']\n",
        "        dW = (1 / m) * (dZ @ A_prev.T)\n",
        "        self.grads[f'dW_{idx}'] = dW\n",
        "        W = self.model_params[f'W_{idx}']\n",
        "        db = dZ.T.mean(axis=0)\n",
        "        self.grads[f'db_{idx}'] = db\n",
        "        dZ = A_prev * (1 - A_prev) * (W.T @ dZ)\n",
        "\n",
        "\n",
        "  def log_loss_batch(self, y_hat, y):\n",
        "    \"\"\"\n",
        "    Calculate average binary cross-entropy loss for a batch.\n",
        "\n",
        "    Args:\n",
        "        y_hat (np.ndarray): Predicted values, shape (1, batch_size)\n",
        "        y (np.ndarray): True labels, shape (1, batch_size)\n",
        "\n",
        "    Returns:\n",
        "        float: Mean binary cross-entropy loss over the batch\n",
        "    \"\"\"\n",
        "    m = y.shape[1]\n",
        "    log_loss = y * np.log(y_hat) + (1 - y) * np.log(1 - y_hat)\n",
        "    cost = -np.sum(log_loss) / m\n",
        "    return cost"
      ],
      "execution_count": 2,
      "outputs": []
    },
    {
      "cell_type": "code",
      "metadata": {
        "id": "Qib6W4QXO644"
      },
      "source": [
        "nn = MyNN(0.01, [3, 2, 1])"
      ],
      "execution_count": 3,
      "outputs": []
    },
    {
      "cell_type": "code",
      "metadata": {
        "id": "4nQR8QllPf_5",
        "colab": {
          "base_uri": "https://localhost:8080/"
        },
        "outputId": "474b21f1-a257-442b-8f21-6157ad2e48a8"
      },
      "source": [
        "nn.model_params"
      ],
      "execution_count": 4,
      "outputs": [
        {
          "output_type": "execute_result",
          "data": {
            "text/plain": [
              "{'W_1': array([[-0.06075477, -0.01261364, -0.06846064],\n",
              "        [ 0.09287147, -0.1844401 , -0.04670024]]),\n",
              " 'b_1': array([0.22924903, 0.04888101]),\n",
              " 'W_2': array([[0.0710267 , 0.10555344]]),\n",
              " 'b_2': array([0.00540731])}"
            ]
          },
          "metadata": {},
          "execution_count": 4
        }
      ]
    },
    {
      "cell_type": "code",
      "metadata": {
        "id": "VXiyn-yrPC6-",
        "colab": {
          "base_uri": "https://localhost:8080/"
        },
        "outputId": "4ee3401d-462a-4c16-98fe-19f2cd9823f5"
      },
      "source": [
        "x = np.random.randn(3)\n",
        "y = np.random.randn(1)\n",
        "\n",
        "y_hat = nn.forward_single_instance(x)\n",
        "print(y_hat)"
      ],
      "execution_count": 5,
      "outputs": [
        {
          "output_type": "stream",
          "name": "stdout",
          "text": [
            "[0.52354415]\n"
          ]
        }
      ]
    },
    {
      "cell_type": "code",
      "metadata": {
        "id": "k5M50i3plclj",
        "colab": {
          "base_uri": "https://localhost:8080/"
        },
        "outputId": "05078c2e-eb0d-43c0-e4f1-9f97396cb8b5"
      },
      "source": [
        "nn.backward_single_instance(y)"
      ],
      "execution_count": 6,
      "outputs": [
        {
          "output_type": "stream",
          "name": "stdout",
          "text": [
            "2\n",
            "1\n"
          ]
        }
      ]
    },
    {
      "cell_type": "code",
      "metadata": {
        "id": "CWnZB1YmYnIt"
      },
      "source": [
        "def train(X, y, epochs, batch_size):\n",
        "  '''\n",
        "  Train procedure, please note the TODOs inside\n",
        "  '''\n",
        "  loss_per_epoch = []\n",
        "  for e in range(1, epochs + 1):\n",
        "    epoch_loss = 0\n",
        "    X_s, y_s = shuffle(X.T, y.T)\n",
        "    batches_X = np.array_split(X_s ,batch_size)  # DONE\n",
        "    batches_y = np.array_split(y_s, batch_size)\n",
        "\n",
        "    for X_b, y_b in zip(batches_X, batches_y):\n",
        "      y_hat = nn.forward_batch(X_b.T)\n",
        "      epoch_loss += nn.log_loss_batch(y_hat, y_b.T)\n",
        "      nn.backward_batch(y_b.T)\n",
        "      nn.update()\n",
        "    loss_per_epoch.append(epoch_loss / len(batches_X))\n",
        "    print(f'Epoch {e}, loss={epoch_loss/len(batches_X)}')\n",
        "  return loss_per_epoch"
      ],
      "execution_count": 7,
      "outputs": []
    },
    {
      "cell_type": "code",
      "metadata": {
        "id": "cE1ydWlatkty",
        "colab": {
          "base_uri": "https://localhost:8080/"
        },
        "outputId": "a85ac028-7405-495a-b49e-206572b21d86"
      },
      "source": [
        "# TODO: Make sure the following network trains properly\n",
        "\n",
        "nn = MyNN(0.001, [6, 4, 3, 1])\n",
        "\n",
        "X = np.random.randn(6, 100)\n",
        "y = np.random.randn(1, 100)\n",
        "batch_size = 8\n",
        "epochs = 2\n",
        "\n",
        "train(X, y, epochs, batch_size)"
      ],
      "execution_count": 8,
      "outputs": [
        {
          "output_type": "stream",
          "name": "stdout",
          "text": [
            "Epoch 1, loss=0.7398745738539753\n",
            "Epoch 2, loss=0.734811500362167\n"
          ]
        },
        {
          "output_type": "execute_result",
          "data": {
            "text/plain": [
              "[np.float64(0.7398745738539753), np.float64(0.734811500362167)]"
            ]
          },
          "metadata": {},
          "execution_count": 8
        }
      ]
    },
    {
      "cell_type": "markdown",
      "metadata": {
        "id": "6dY4scUksulC"
      },
      "source": [
        "#TODO: train on an external dataset\n",
        "\n",
        "Train on the *hour.csv* file with a split of 75% training 10% validation and 15% for test.\n",
        "Use the following features from the data:\n",
        "\n",
        "* temp\n",
        "* atemp\n",
        "* hum\n",
        "* windspeed\n",
        "* weekday\n",
        "\n",
        "The response variable is, *success*\n",
        "\n",
        "The architecture of the network should be: [5, 40, 30, 10, 7, 5, 3, 1].\n",
        "\n",
        "Use batch_size=8, and train it for 100 epochs on the train set (based on the split as requested above).\n",
        "\n",
        "Then, plot train and validation loss per epoch."
      ]
    },
    {
      "cell_type": "markdown",
      "source": [
        "##  your code goes here"
      ],
      "metadata": {
        "id": "ZKAxdO2I1IGT"
      }
    },
    {
      "cell_type": "markdown",
      "source": [
        "###  Data Preprocessing"
      ],
      "metadata": {
        "id": "CHGoWEJk1K7r"
      }
    },
    {
      "cell_type": "code",
      "source": [
        "# TODO: Preprocess the bike sharing dataset ('hour.csv')\n",
        "# - Load the dataset from the provided hour.csv file\n",
        "raw = pd.read_csv('hour.csv')"
      ],
      "metadata": {
        "id": "e4Ra8vc_1NCE"
      },
      "execution_count": 9,
      "outputs": []
    },
    {
      "cell_type": "code",
      "source": [
        "raw[\"cnt\"].describe()"
      ],
      "metadata": {
        "colab": {
          "base_uri": "https://localhost:8080/",
          "height": 335
        },
        "id": "N5eHWp8FygJX",
        "outputId": "31f9c279-fed9-4856-b5fd-393a2c0a7668"
      },
      "execution_count": 10,
      "outputs": [
        {
          "output_type": "execute_result",
          "data": {
            "text/plain": [
              "count    17379.000000\n",
              "mean       189.463088\n",
              "std        181.387599\n",
              "min          1.000000\n",
              "25%         40.000000\n",
              "50%        142.000000\n",
              "75%        281.000000\n",
              "max        977.000000\n",
              "Name: cnt, dtype: float64"
            ],
            "text/html": [
              "<div>\n",
              "<style scoped>\n",
              "    .dataframe tbody tr th:only-of-type {\n",
              "        vertical-align: middle;\n",
              "    }\n",
              "\n",
              "    .dataframe tbody tr th {\n",
              "        vertical-align: top;\n",
              "    }\n",
              "\n",
              "    .dataframe thead th {\n",
              "        text-align: right;\n",
              "    }\n",
              "</style>\n",
              "<table border=\"1\" class=\"dataframe\">\n",
              "  <thead>\n",
              "    <tr style=\"text-align: right;\">\n",
              "      <th></th>\n",
              "      <th>cnt</th>\n",
              "    </tr>\n",
              "  </thead>\n",
              "  <tbody>\n",
              "    <tr>\n",
              "      <th>count</th>\n",
              "      <td>17379.000000</td>\n",
              "    </tr>\n",
              "    <tr>\n",
              "      <th>mean</th>\n",
              "      <td>189.463088</td>\n",
              "    </tr>\n",
              "    <tr>\n",
              "      <th>std</th>\n",
              "      <td>181.387599</td>\n",
              "    </tr>\n",
              "    <tr>\n",
              "      <th>min</th>\n",
              "      <td>1.000000</td>\n",
              "    </tr>\n",
              "    <tr>\n",
              "      <th>25%</th>\n",
              "      <td>40.000000</td>\n",
              "    </tr>\n",
              "    <tr>\n",
              "      <th>50%</th>\n",
              "      <td>142.000000</td>\n",
              "    </tr>\n",
              "    <tr>\n",
              "      <th>75%</th>\n",
              "      <td>281.000000</td>\n",
              "    </tr>\n",
              "    <tr>\n",
              "      <th>max</th>\n",
              "      <td>977.000000</td>\n",
              "    </tr>\n",
              "  </tbody>\n",
              "</table>\n",
              "</div><br><label><b>dtype:</b> float64</label>"
            ]
          },
          "metadata": {},
          "execution_count": 10
        }
      ]
    },
    {
      "cell_type": "code",
      "source": [
        "raw[\"success\"] = raw[\"cnt\"] > (raw[\"cnt\"].describe()[\"mean\"])"
      ],
      "metadata": {
        "id": "C-B8SuHHyg-g"
      },
      "execution_count": 11,
      "outputs": []
    },
    {
      "cell_type": "code",
      "source": [
        "# Count number of true success and failure values\n",
        "from IPython.display import HTML\n",
        "df_success = pd.DataFrame({\n",
        "    \"Success\": [raw[\"success\"].value_counts().loc[True]],\n",
        "    \"Fail\": [raw[\"success\"].value_counts().loc[False]]\n",
        "})\n",
        "\n",
        "HTML(df_success.to_html(index=False))"
      ],
      "metadata": {
        "colab": {
          "base_uri": "https://localhost:8080/",
          "height": 81
        },
        "id": "LRT8L6Tx2Wu7",
        "outputId": "ffb169d5-f2b6-458c-8230-ed39518a5d0e"
      },
      "execution_count": 12,
      "outputs": [
        {
          "output_type": "execute_result",
          "data": {
            "text/plain": [
              "<IPython.core.display.HTML object>"
            ],
            "text/html": [
              "<table border=\"1\" class=\"dataframe\">\n",
              "  <thead>\n",
              "    <tr style=\"text-align: right;\">\n",
              "      <th>Success</th>\n",
              "      <th>Fail</th>\n",
              "    </tr>\n",
              "  </thead>\n",
              "  <tbody>\n",
              "    <tr>\n",
              "      <td>6935</td>\n",
              "      <td>10444</td>\n",
              "    </tr>\n",
              "  </tbody>\n",
              "</table>"
            ]
          },
          "metadata": {},
          "execution_count": 12
        }
      ]
    },
    {
      "cell_type": "code",
      "source": [
        "# Prepare features and labels\n",
        "# - Select the required features (temp, atemp, hum, windspeed, weekday)\n",
        "X = raw[['temp', 'atemp', 'hum', 'windspeed', 'weekday']].copy()\n",
        "\n",
        "# Normalize 'weekday' to be between 0 and 1\n",
        "X['weekday'] = X['weekday'] / 6.0\n",
        "\n",
        "# Convert to numpy array\n",
        "X = X.to_numpy()\n",
        "\n",
        "# Check if all values in each column of X are between 0 and 1\n",
        "feature_min = X.min(axis=0)\n",
        "feature_max = X.max(axis=0)\n",
        "\n",
        "print(\"Minimum values per feature:\", feature_min)\n",
        "print(\"Maximum values per feature:\", feature_max)\n",
        "\n",
        "all_between_0_and_1 = np.all((X >= 0) & (X <= 1))\n",
        "print(\"All data between 0 and 1:\", all_between_0_and_1)"
      ],
      "metadata": {
        "colab": {
          "base_uri": "https://localhost:8080/"
        },
        "id": "Yp7ZHvAL3Rnq",
        "outputId": "0a65d52c-a840-4d49-de85-a7d3baa8c81f"
      },
      "execution_count": 13,
      "outputs": [
        {
          "output_type": "stream",
          "name": "stdout",
          "text": [
            "Minimum values per feature: [0.02 0.   0.   0.   0.  ]\n",
            "Maximum values per feature: [1.     1.     1.     0.8507 1.    ]\n",
            "All data between 0 and 1: True\n"
          ]
        }
      ]
    },
    {
      "cell_type": "code",
      "source": [
        "# - Create DataLoader objects with batch_size=8\n",
        "# - Use batch_size=8 as specified\n",
        "batch_size = 8\n",
        "\n",
        "# - Train for exactly 100 epochs on the training set\n",
        "epochs = 100\n",
        "\n",
        "# - Implement the network with architecture [5, 40, 30, 10, 7, 5, 3, 1]\n",
        "nn = MyNN(0.01, [5, 40, 30, 10, 7, 5, 3, 1])"
      ],
      "metadata": {
        "id": "Zht0JbU5zEVW"
      },
      "execution_count": 14,
      "outputs": []
    },
    {
      "cell_type": "code",
      "source": [
        "# - Select the required features (temp, atemp, hum, windspeed, weekday)\n",
        "X = raw[[\"temp\", \"atemp\", \"hum\", \"windspeed\", \"weekday\"]]\n",
        "\n",
        "# - Extract the target variable (success)\n",
        "y = raw[\"success\"]\n",
        "\n",
        "# - Split the data into training (75%), validation (10%), and test (15%) sets\n",
        "# Initial split: 15% test\n",
        "X_temp, X_test, y_temp, y_test = train_test_split(X, y, test_size=0.15, random_state=41)\n",
        "\n",
        "# Secondary split: 10% validation (10/85 ≈ 0.1176 of the remaining 85%)\n",
        "X_train, X_val, y_train, y_val = train_test_split(X_temp, y_temp, test_size=0.1176, random_state=41)\n",
        "\n",
        "# - Normalize/standardize features if necessary\n",
        "X_train = np.array(X_train.T)\n",
        "X_test = np.array(X_test.T)\n",
        "y_train = np.array(y_train).reshape(1, -1)\n",
        "y_test = np.array(y_test).reshape(1, -1)"
      ],
      "metadata": {
        "id": "s2Afsh3EykpW"
      },
      "execution_count": 15,
      "outputs": []
    },
    {
      "cell_type": "markdown",
      "source": [
        "### Model Training\n"
      ],
      "metadata": {
        "id": "glp6Vz3B1TZo"
      }
    },
    {
      "cell_type": "code",
      "source": [
        "# TODO: Train the neural network\n",
        "# - Calculate and store train and validation loss for each epoch\n",
        "# - Track training progres\n",
        "def train_with_validation(X_train, y_train, X_val, y_val, epochs, batch_size):\n",
        "    \"\"\"\n",
        "    Train the neural network using mini-batch gradient descent with validation loss tracking.\n",
        "\n",
        "    Inputs:\n",
        "        X_train (np.ndarray): Training input data, shape (input_size, num_train_instances)\n",
        "        y_train (np.ndarray): Training labels, shape (1, num_train_instances)\n",
        "        X_val (np.ndarray): Validation input data, shape (input_size, num_val_instances)\n",
        "        y_val (np.ndarray): Validation labels, shape (1, num_val_instances)\n",
        "        epochs (int): Number of training epochs\n",
        "        batch_size (int): Number of instances per training batch\n",
        "\n",
        "    Outputs:\n",
        "        loss_train (list of float): Average training loss per epoch\n",
        "        loss_val (list of float): Validation loss per epoch\n",
        "    \"\"\"\n",
        "    loss_train = []\n",
        "    loss_val = []\n",
        "    for e in range(1, epochs + 1):\n",
        "        epoch_loss = 0\n",
        "        X_s, y_s = shuffle(X_train.T, y_train.T)\n",
        "        batches_X = np.array_split(X_s, batch_size)\n",
        "        batches_y = np.array_split(y_s, batch_size)\n",
        "\n",
        "        for X_b, y_b in zip(batches_X, batches_y):\n",
        "            y_hat = nn.forward_batch(X_b.T)\n",
        "            epoch_loss += nn.log_loss_batch(y_hat, y_b.T)\n",
        "            nn.backward_batch(y_b.T)\n",
        "            nn.update()\n",
        "\n",
        "        loss_train.append(epoch_loss / len(batches_X))\n",
        "\n",
        "        # Validation loss\n",
        "        y_val_hat = nn.forward_batch(X_val)\n",
        "        val_loss = nn.log_loss_batch(y_val_hat, y_val)\n",
        "        loss_val.append(val_loss)\n",
        "\n",
        "        print(f'Epoch {e}, train loss={loss_train[-1]}, val loss={val_loss}')\n",
        "    return loss_train, loss_val\n",
        "\n",
        "loss_train, loss_val = train_with_validation(X_train, y_train, X_test, y_test, epochs, batch_size)"
      ],
      "metadata": {
        "id": "LXlKl21D1UGn",
        "colab": {
          "base_uri": "https://localhost:8080/"
        },
        "outputId": "1e89e472-67f8-4be6-8449-7ab34c44037b"
      },
      "execution_count": 16,
      "outputs": [
        {
          "output_type": "stream",
          "name": "stdout",
          "text": [
            "Epoch 1, train loss=0.6977765952891828, val loss=0.6967439097391502\n",
            "Epoch 2, train loss=0.6960993599382282, val loss=0.6951613933747474\n",
            "Epoch 3, train loss=0.6945341728291823, val loss=0.6936855518421502\n",
            "Epoch 4, train loss=0.6930753051957945, val loss=0.6923108517649347\n",
            "Epoch 5, train loss=0.6917153913343987, val loss=0.691029074104772\n",
            "Epoch 6, train loss=0.6904473710133628, val loss=0.6898349228764624\n",
            "Epoch 7, train loss=0.6892627704663562, val loss=0.6887225362901154\n",
            "Epoch 8, train loss=0.6881597671893577, val loss=0.6876868108508921\n",
            "Epoch 9, train loss=0.6871322065085226, val loss=0.6867216085019766\n",
            "Epoch 10, train loss=0.6861728004672072, val loss=0.6858226052617912\n",
            "Epoch 11, train loss=0.6852786467924605, val loss=0.6849840062905329\n",
            "Epoch 12, train loss=0.6844451388696297, val loss=0.6842040862942477\n",
            "Epoch 13, train loss=0.6836681345579416, val loss=0.6834774631771107\n",
            "Epoch 14, train loss=0.6829429287016251, val loss=0.6827992299573569\n",
            "Epoch 15, train loss=0.6822667834690784, val loss=0.6821682871739254\n",
            "Epoch 16, train loss=0.6816368844339731, val loss=0.6815800103573382\n",
            "Epoch 17, train loss=0.6810485874643607, val loss=0.6810327994920345\n",
            "Epoch 18, train loss=0.6805001426717279, val loss=0.6805227035395514\n",
            "Epoch 19, train loss=0.6799879853899053, val loss=0.6800471101404786\n",
            "Epoch 20, train loss=0.6795115572102698, val loss=0.679604609179657\n",
            "Epoch 21, train loss=0.6790666780932436, val loss=0.6791924274950744\n",
            "Epoch 22, train loss=0.6786518452802162, val loss=0.6788079453513952\n",
            "Epoch 23, train loss=0.6782655130091716, val loss=0.6784503665453735\n",
            "Epoch 24, train loss=0.6779049469000741, val loss=0.678117311752889\n",
            "Epoch 25, train loss=0.6775672472766171, val loss=0.6778068350486174\n",
            "Epoch 26, train loss=0.6772537025798746, val loss=0.6775175873706678\n",
            "Epoch 27, train loss=0.6769603781669692, val loss=0.6772484177282496\n",
            "Epoch 28, train loss=0.6766878767004558, val loss=0.676997735927161\n",
            "Epoch 29, train loss=0.6764326530273881, val loss=0.6767641575849532\n",
            "Epoch 30, train loss=0.6761945857064847, val loss=0.6765466037418608\n",
            "Epoch 31, train loss=0.675975097252916, val loss=0.6763439530110705\n",
            "Epoch 32, train loss=0.6757666503773452, val loss=0.676155827931987\n",
            "Epoch 33, train loss=0.6755736492710802, val loss=0.675980031456828\n",
            "Epoch 34, train loss=0.6753933546068032, val loss=0.6758163980233449\n",
            "Epoch 35, train loss=0.6752246054905932, val loss=0.6756638893992267\n",
            "Epoch 36, train loss=0.675067921088465, val loss=0.6755221272379672\n",
            "Epoch 37, train loss=0.6749229114477738, val loss=0.6753904400934612\n",
            "Epoch 38, train loss=0.6747848495576353, val loss=0.6752675977535599\n",
            "Epoch 39, train loss=0.6746584001229108, val loss=0.6751534255772746\n",
            "Epoch 40, train loss=0.674538821437854, val loss=0.6750470634622221\n",
            "Epoch 41, train loss=0.6744276963026424, val loss=0.6749476672298194\n",
            "Epoch 42, train loss=0.6743252400469266, val loss=0.6748554681812544\n",
            "Epoch 43, train loss=0.6742269815128127, val loss=0.6747695090080574\n",
            "Epoch 44, train loss=0.6741360948147407, val loss=0.6746894540181624\n",
            "Epoch 45, train loss=0.6740519592764352, val loss=0.6746151152833008\n",
            "Epoch 46, train loss=0.6739737189652464, val loss=0.6745459547616026\n",
            "Epoch 47, train loss=0.6739025959639497, val loss=0.6744815507100232\n",
            "Epoch 48, train loss=0.6738339379589415, val loss=0.6744219394267152\n",
            "Epoch 49, train loss=0.6737682252488741, val loss=0.674366082268518\n",
            "Epoch 50, train loss=0.6737081833680273, val loss=0.6743141514671983\n",
            "Epoch 51, train loss=0.6736533210880584, val loss=0.6742661720796281\n",
            "Epoch 52, train loss=0.6736003517561543, val loss=0.6742213585170046\n",
            "Epoch 53, train loss=0.6735521710758159, val loss=0.6741796935028511\n",
            "Epoch 54, train loss=0.6735079812410301, val loss=0.6741410730043795\n",
            "Epoch 55, train loss=0.6734641962653161, val loss=0.6741050824880421\n",
            "Epoch 56, train loss=0.6734258179109996, val loss=0.6740717899281627\n",
            "Epoch 57, train loss=0.6733887497464167, val loss=0.6740408128590044\n",
            "Epoch 58, train loss=0.6733546560363952, val loss=0.6740119759467307\n",
            "Epoch 59, train loss=0.6733226778187936, val loss=0.6739850676789984\n",
            "Epoch 60, train loss=0.673291526728423, val loss=0.6739602358552114\n",
            "Epoch 61, train loss=0.6732635545407603, val loss=0.6739370194701562\n",
            "Epoch 62, train loss=0.673237717647435, val loss=0.6739155282326855\n",
            "Epoch 63, train loss=0.6732124637017017, val loss=0.6738955473716164\n",
            "Epoch 64, train loss=0.6731900316277635, val loss=0.6738770579933189\n",
            "Epoch 65, train loss=0.6731694609577608, val loss=0.6738598822160324\n",
            "Epoch 66, train loss=0.6731499220251844, val loss=0.6738440817046193\n",
            "Epoch 67, train loss=0.673130718884866, val loss=0.6738293427034332\n",
            "Epoch 68, train loss=0.6731132794278872, val loss=0.6738156914484064\n",
            "Epoch 69, train loss=0.6730981431044992, val loss=0.6738030130613497\n",
            "Epoch 70, train loss=0.6730822623319328, val loss=0.6737913879538544\n",
            "Epoch 71, train loss=0.6730687326519466, val loss=0.6737806160136912\n",
            "Epoch 72, train loss=0.6730549316823808, val loss=0.6737705369678768\n",
            "Epoch 73, train loss=0.6730431959904005, val loss=0.6737612602112272\n",
            "Epoch 74, train loss=0.6730312353883227, val loss=0.6737526692124622\n",
            "Epoch 75, train loss=0.6730197457280198, val loss=0.67374467175706\n",
            "Epoch 76, train loss=0.6730103753023647, val loss=0.6737373140583723\n",
            "Epoch 77, train loss=0.6730023559382746, val loss=0.6737305061128452\n",
            "Epoch 78, train loss=0.6729926332912592, val loss=0.673724273297645\n",
            "Epoch 79, train loss=0.6729834772881834, val loss=0.6737185298287285\n",
            "Epoch 80, train loss=0.6729768112346929, val loss=0.6737131743943652\n",
            "Epoch 81, train loss=0.6729701066017161, val loss=0.673708296963851\n",
            "Epoch 82, train loss=0.6729621514809504, val loss=0.673703767078398\n",
            "Epoch 83, train loss=0.6729570826948807, val loss=0.6736996434079633\n",
            "Epoch 84, train loss=0.6729510805854515, val loss=0.67369585187067\n",
            "Epoch 85, train loss=0.6729455642694825, val loss=0.6736923488775874\n",
            "Epoch 86, train loss=0.6729410632637048, val loss=0.6736891415230446\n",
            "Epoch 87, train loss=0.6729365308601807, val loss=0.6736861783577404\n",
            "Epoch 88, train loss=0.6729324459745046, val loss=0.6736834909493493\n",
            "Epoch 89, train loss=0.6729279883480696, val loss=0.6736810011635304\n",
            "Epoch 90, train loss=0.6729225147171305, val loss=0.6736787199893496\n",
            "Epoch 91, train loss=0.672921573510102, val loss=0.6736766641214419\n",
            "Epoch 92, train loss=0.672916203463488, val loss=0.6736747863954067\n",
            "Epoch 93, train loss=0.6729134412595962, val loss=0.6736730679077837\n",
            "Epoch 94, train loss=0.6729101101366024, val loss=0.673671482386862\n",
            "Epoch 95, train loss=0.6729069578523789, val loss=0.6736700607565991\n",
            "Epoch 96, train loss=0.672905301484157, val loss=0.6736687655169883\n",
            "Epoch 97, train loss=0.6729022135970132, val loss=0.6736676043147346\n",
            "Epoch 98, train loss=0.6729010877691757, val loss=0.6736665449778709\n",
            "Epoch 99, train loss=0.6728980640368386, val loss=0.6736655927886993\n",
            "Epoch 100, train loss=0.67289635797023, val loss=0.6736647543715433\n"
          ]
        }
      ]
    },
    {
      "cell_type": "markdown",
      "source": [
        "**Note:**\n",
        "The `train_with_validation` function implements mini-batch gradient descent to train a neural network while tracking both training and validation loss per epoch. The output shows consistent convergence over 100 epochs:\n",
        "\n",
        "* Training loss starts at **0.6978** and steadily decreases to **0.6729**\n",
        "* Validation loss begins at **0.6967** and decreases to **0.6737**\n",
        "* The smooth and gradual decline in both losses indicates that the model is learning effectively without overfitting across the epochs.\n"
      ],
      "metadata": {
        "id": "81RBw4aVH2sN"
      }
    },
    {
      "cell_type": "markdown",
      "source": [
        "### Visualization"
      ],
      "metadata": {
        "id": "cwBcg1yy1b-j"
      }
    },
    {
      "cell_type": "code",
      "source": [
        "# TODO: Create visualizations of the learning process\n",
        "# - Plot the training loss per epoch\n",
        "# - Create additional relevant plots (validation loss, learning curves, etc.)\n",
        "# - Make sure all plots have proper labels, titles, and legends\n",
        "plt.plot(loss_train, label=\"Training Loss\")\n",
        "plt.plot(loss_val, label=\"Validation Loss\")\n",
        "plt.xlabel('Epoch Number')\n",
        "plt.ylabel(\"Loss\")\n",
        "plt.legend()\n",
        "plt.show()"
      ],
      "metadata": {
        "id": "lqE6Jhxj1etd",
        "colab": {
          "base_uri": "https://localhost:8080/",
          "height": 449
        },
        "outputId": "fd55268a-1438-46ad-88f0-052e2461dc57"
      },
      "execution_count": 17,
      "outputs": [
        {
          "output_type": "display_data",
          "data": {
            "text/plain": [
              "<Figure size 640x480 with 1 Axes>"
            ],
            "image/png": "[encoded data removed]"
          },
          "metadata": {}
        }
      ]
    },
    {
      "cell_type": "code",
      "source": [
        "# - Add brief analysis of what the plots reveal about your model's performance"
      ],
      "metadata": {
        "id": "2bV5l3KCK7Iy"
      },
      "execution_count": 18,
      "outputs": []
    },
    {
      "cell_type": "markdown",
      "source": [
        "**Note:** The plot shows both training and validation loss steadily decreasing over the 100 epochs, indicating successful learning and convergence. The close alignment between the two curves suggests minimal overfitting, and the gradual flattening implies the model is approaching a performance plateau.\n"
      ],
      "metadata": {
        "id": "KlOQzoKUIFdR"
      }
    },
    {
      "cell_type": "code",
      "source": [
        "# Forward pass on the test set\n",
        "y_test_hat = nn.forward_batch(X_test)\n",
        "\n",
        "# Convert sigmoid outputs to binary predictions\n",
        "y_test_pred = (y_test_hat > 0.5).astype(int)\n",
        "\n",
        "# Ground truth labels should also be integers\n",
        "y_true = y_test.astype(int).flatten()\n",
        "y_pred = y_test_pred.flatten()\n",
        "\n",
        "# Compute confusion matrix\n",
        "cm = confusion_matrix(y_true, y_pred)\n",
        "disp = ConfusionMatrixDisplay(confusion_matrix=cm, display_labels=[\"Fail\", \"Success\"])\n",
        "disp.plot(cmap='Blues')\n",
        "plt.title(\"Confusion Matrix on Test Set\")\n",
        "plt.show()\n"
      ],
      "metadata": {
        "colab": {
          "base_uri": "https://localhost:8080/",
          "height": 472
        },
        "id": "fGvCF3ME7SN9",
        "outputId": "a387561a-55e0-47dc-b770-4ebc2d168556"
      },
      "execution_count": 19,
      "outputs": [
        {
          "output_type": "display_data",
          "data": {
            "text/plain": [
              "<Figure size 640x480 with 2 Axes>"
            ],
            "image/png": "[encoded data removed]"
          },
          "metadata": {}
        }
      ]
    },
    {
      "cell_type": "markdown",
      "source": [
        "**Note:**\n",
        "The confusion matrix reveals that the model predicts all instances as \"Fail\", with 1560 true negatives and 1047 false negatives, and zero true or false positives. This indicates the model fails to identify any \"Success\" cases, likely due to class imbalance or inadequate training signal for the minority class.\n"
      ],
      "metadata": {
        "id": "ee5EA-LHIbhX"
      }
    },
    {
      "cell_type": "markdown",
      "source": [
        "### Model Evaluation\n"
      ],
      "metadata": {
        "id": "xQIAgWhe1i_2"
      }
    },
    {
      "cell_type": "code",
      "source": [
        "# TODO: Evaluate model performance on the test set\n",
        "\n",
        "# Calculate and report the loss on the test set\n",
        "y_test_hat = nn.forward_batch(X_test)\n",
        "test_loss = nn.log_loss_batch(y_test_hat, y_test)\n",
        "print(f\"Test Loss: {test_loss:.4f}\")\n",
        "\n",
        "# Calculate and report the accuracy on the test set\n",
        "y_test_pred = (y_test_hat > 0.5).astype(int)\n",
        "accuracy = np.mean(y_test_pred == y_test)\n",
        "print(f\"Test Accuracy: {accuracy:.4f}\")\n",
        "\n",
        "# Compare test performance with training/validation loss\n",
        "print(f\"Final Training Loss: {loss_train[-1]:.4f}\")\n",
        "print(f\"Final Validation Loss: {loss_val[-1]:.4f}\")\n",
        "\n",
        "# Analyze model strengths and weaknesses using classification report\n",
        "y_true = y_test.flatten()\n",
        "y_pred = y_test_pred.flatten()\n",
        "report = classification_report(y_true, y_pred, target_names=[\"Fail\", \"Success\"])\n",
        "print(\"Classification Report:\\n\", report)\n"
      ],
      "metadata": {
        "colab": {
          "base_uri": "https://localhost:8080/"
        },
        "id": "YrUvOoj8JJ1x",
        "outputId": "14649c5c-f8f1-495c-fd35-55974b7be34f"
      },
      "execution_count": 20,
      "outputs": [
        {
          "output_type": "stream",
          "name": "stdout",
          "text": [
            "Test Loss: 0.6737\n",
            "Test Accuracy: 0.5984\n",
            "Final Training Loss: 0.6729\n",
            "Final Validation Loss: 0.6737\n",
            "Classification Report:\n",
            "               precision    recall  f1-score   support\n",
            "\n",
            "        Fail       0.60      1.00      0.75      1560\n",
            "     Success       0.00      0.00      0.00      1047\n",
            "\n",
            "    accuracy                           0.60      2607\n",
            "   macro avg       0.30      0.50      0.37      2607\n",
            "weighted avg       0.36      0.60      0.45      2607\n",
            "\n"
          ]
        }
      ]
    },
    {
      "cell_type": "markdown",
      "source": [
        "**Note:**\n",
        "The classification report shows that the model has **high recall (1.00)** but **low precision (0.60)** for the \"Fail\" class and completely fails to predict the \"Success\" class (all metrics are 0.00). The **overall accuracy is 60%**, but the **macro average F1-score is only 0.37**, reflecting poor balance in performance across classes. This confirms the model is biased toward predicting only the majority class.\n"
      ],
      "metadata": {
        "id": "QsnwuClwItCF"
      }
    },
    {
      "cell_type": "code",
      "source": [
        "# - Discuss any overfitting/underfitting issues observed"
      ],
      "metadata": {
        "id": "IfquqstM1iIO"
      },
      "execution_count": 21,
      "outputs": []
    },
    {
      "cell_type": "markdown",
      "source": [
        "The model shows signs of **underfitting**. Despite a gradual decrease in training and validation loss, it fails to correctly classify any \"Success\" cases, as shown by the confusion matrix and classification report. The test loss is similar to training/validation loss, indicating no overfitting, but the model is too simplistic or biased—likely due to class imbalance—resulting in poor generalization to minority class patterns.\n"
      ],
      "metadata": {
        "id": "jOu7Qqh-Jxca"
      }
    },
    {
      "cell_type": "code",
      "source": [
        "# Observations:"
      ],
      "metadata": {
        "id": "RyfQjmboKugX"
      },
      "execution_count": 22,
      "outputs": []
    },
    {
      "cell_type": "markdown",
      "source": [
        "**Observations:**\n",
        "\n",
        "* **Training and validation losses** decrease steadily and converge closely, indicating stable learning without overfitting.\n",
        "* **Test loss** is consistent with training and validation losses, suggesting generalization is not the core issue.\n",
        "* **Test accuracy** is 60%, but this is misleading due to class imbalance.\n",
        "* The model **predicts only the majority class (Fail)**, completely missing all \"Success\" cases.\n",
        "* **Classification report and confusion matrix** confirm zero precision, recall, and F1-score for the \"Success\" class.\n",
        "* Overall, the model underfits and fails to capture distinguishing patterns for minority class predictions.\n"
      ],
      "metadata": {
        "id": "7TZdLow_KBkx"
      }
    },
    {
      "cell_type": "markdown",
      "source": [
        "## **Summary:**\n",
        "\n",
        "In this project, a custom neural network was implemented and trained on the bike sharing dataset to classify usage success. While training and validation loss steadily decreased, indicating effective convergence, evaluation on the test set revealed that the model failed to identify any positive \"Success\" cases. The confusion matrix and classification report showed zero performance on the minority class, exposing a serious underfitting issue. The model learned to only predict the majority class (\"Fail\"), leading to a misleadingly high accuracy of 60%.\n",
        "\n",
        "A key contributing factor is the **overly deep and complex architecture** used: `[5, 40, 30, 10, 7, 5, 3, 1]`. This depth, without appropriate regularization, normalization, or sufficient data complexity, likely hindered the network's ability to generalize and caused inefficient learning.\n",
        "\n",
        "To improve performance, a **simpler architecture** such as `[5, 10, 5, 1]` can be used. This alternative structure can help the model focus on essential patterns and improve minority class prediction, resulting in a more balanced and effective classifier.\n",
        "\n",
        "Another critical factor is the **exclusive use of sigmoid activations across all layers**. Sigmoid functions squash input values into the (0, 1) range, causing gradients to become very small during backpropagation — especially in deeper networks. This leads to the **vanishing gradient problem**, where early layers receive almost no gradient signal and thus learn very slowly or not at all. Modern architectures typically use activation functions like ReLU in hidden layers to mitigate this issue and preserve gradient flow. Without such adjustments, networks using only sigmoid activations struggle to train effectively, particularly at greater depths.\n"
      ],
      "metadata": {
        "id": "m05PWnCDTToi"
      }
    },
    {
      "cell_type": "markdown",
      "source": [
        "## **Options to Improve the Model:**\n",
        "\n",
        "* Use a simpler architecture (e.g., `[5, 10, 5, 1]`) to avoid overfitting.\n",
        "* Replace sigmoid with **ReLU activation** in hidden layers to avoid the vanishing gradient problem and improve training efficiency in deeper networks.\n",
        "* Handle class imbalance with oversampling, undersampling, or class weights.\n",
        "* Improve feature engineering and scaling for better input representation.\n",
        "* Tune hyperparameters (learning rate, epochs, batch size).\n",
        "* Apply regularization (e.g., L2, dropout) to improve generalization.\n",
        "* Use cross-validation for more reliable evaluation.\n",
        "* Try alternative models like gradient boosting.\n",
        "* Train longer with early stopping to optimize learning.\n",
        "* Use model ensembling to combine strengths of different models.\n"
      ],
      "metadata": {
        "id": "_RpK6aa_PY0m"
      }
    }
  ]
}