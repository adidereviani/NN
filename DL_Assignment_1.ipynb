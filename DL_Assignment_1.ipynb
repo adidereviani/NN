{
  "nbformat": 4,
  "nbformat_minor": 0,
  "metadata": {
    "colab": {
      "provenance": []
    },
    "kernelspec": {
      "name": "python3",
      "display_name": "Python 3"
    }
  },
  "cells": [
    {
      "cell_type": "markdown",
      "source": [
        "# Students:"
      ],
      "metadata": {
        "id": "zoqa-ZZMhxoR"
      }
    },
    {
      "cell_type": "markdown",
      "source": [
        "# Adi Dereviani - 305674731\n",
        "# Stav Cohen - 316492776"
      ],
      "metadata": {
        "id": "4gIDWBOJAZMT"
      }
    },
    {
      "cell_type": "markdown",
      "metadata": {
        "id": "SE6qcw_j8Pi2"
      },
      "source": [
        "In this homework assignment, you are requested to implement a full backprop algorithm using only *numpy*.\n",
        "\n",
        "- We assume sigmoid activation across all layers.\n",
        "- We assume a single value in the output layer"
      ]
    },
    {
      "cell_type": "code",
      "metadata": {
        "id": "UV4RvXYL8k85"
      },
      "source": [
        "import numpy as np\n",
        "np.random.seed(42)"
      ],
      "execution_count": 1,
      "outputs": []
    },
    {
      "cell_type": "code",
      "source": [
        "import pandas as pd\n",
        "from sklearn.model_selection import train_test_split\n",
        "from sklearn.preprocessing import MinMaxScaler\n",
        "import matplotlib.pyplot as plt\n",
        "import seaborn as sns\n",
        "from sklearn.metrics import roc_curve\n",
        "from sklearn.metrics import roc_auc_score\n",
        "from sklearn.metrics import confusion_matrix, classification_report\n",
        "from sklearn.metrics import roc_curve"
      ],
      "metadata": {
        "id": "c9NUCIlwIUhW"
      },
      "execution_count": 2,
      "outputs": []
    },
    {
      "cell_type": "markdown",
      "metadata": {
        "id": "SRml6glFIPCa"
      },
      "source": [
        "The following class represents a simple feed forward network with multiple layers. The network class provides methods for running forward and backward for a single instance, throught the network. You should implement the methods (indicated with TODO), that performs forward and backward for an entire batch. Note, the idea is to use matrix multiplications, and not running standard loops over the instances in the batch."
      ]
    },
    {
      "cell_type": "code",
      "metadata": {
        "id": "kLdNoCt58qg5"
      },
      "source": [
        "class MyNN:\n",
        "  def __init__(self, learning_rate, layer_sizes):\n",
        "    '''\n",
        "    learning_rate - the learning to use in backward\n",
        "    layer_sizes - a list of numbers, each number repreents the nuber of neurons\n",
        "                  to have in every layer. Therfore, the length of the list\n",
        "                  represents the number layers this network has.\n",
        "    '''\n",
        "    self.learning_rate = learning_rate\n",
        "    self.layer_sizes = layer_sizes\n",
        "    self.model_params = {}\n",
        "    self.memory = {}\n",
        "    self.grads = {}\n",
        "\n",
        "    # Initializing weights\n",
        "    for layer_index in range(len(layer_sizes) - 1):\n",
        "      W_input = layer_sizes[layer_index + 1]\n",
        "      W_output = layer_sizes[layer_index]\n",
        "      self.model_params['W_' + str(layer_index + 1)] = np.random.randn(W_input, W_output) * 0.1\n",
        "      self.model_params['b_' + str(layer_index + 1)] = np.random.randn(W_input) * 0.1\n",
        "\n",
        "\n",
        "  def forward_single_instance(self, x):\n",
        "    a_i_1 = x\n",
        "    self.memory['a_0'] = x\n",
        "    for layer_index in range(len(self.layer_sizes) - 1):\n",
        "      W_i = self.model_params['W_' + str(layer_index + 1)]\n",
        "      b_i = self.model_params['b_' + str(layer_index + 1)]\n",
        "      z_i = np.dot(W_i, a_i_1) + b_i\n",
        "      a_i = 1/(1+np.exp(-z_i))\n",
        "      self.memory['a_' + str(layer_index + 1)] = a_i\n",
        "      a_i_1 = a_i\n",
        "    return a_i_1\n",
        "\n",
        "\n",
        "  def log_loss(self, y_hat, y):\n",
        "    '''\n",
        "    Logistic loss, assuming a single value in y_hat and y.\n",
        "    '''\n",
        "    m = y_hat[0]\n",
        "    cost = -y[0]*np.log(y_hat[0]) - (1 - y[0])*np.log(1 - y_hat[0])\n",
        "    return cost\n",
        "\n",
        "\n",
        "  def backward_single_instance(self, y):\n",
        "    a_output = self.memory['a_' + str(len(self.layer_sizes) - 1)]\n",
        "    dz = a_output - y\n",
        "\n",
        "    for layer_index in range(len(self.layer_sizes) - 1, 0, -1):\n",
        "      print(layer_index)\n",
        "      a_l_1 = self.memory['a_' + str(layer_index - 1)]\n",
        "      dW = np.dot(dz.reshape(-1, 1), a_l_1.reshape(1, -1))\n",
        "      db = dz # TODO: calculate and memorize db as well.\n",
        "      self.grads['dW_' + str(layer_index)] = dW\n",
        "      self.grads['db_' + str(layer_index)] = db\n",
        "      W_l = self.model_params['W_' + str(layer_index)]\n",
        "      dz = (a_l_1 * (1 - a_l_1)).reshape(-1, 1) * np.dot(W_l.T, dz.reshape(-1, 1))\n",
        "\n",
        "  # TODO: update weights with grads\n",
        "  def update(self):\n",
        "    '''\n",
        "    Update model weights and biases using the gradients computed in the backward pass.\n",
        "\n",
        "    Inputs:\n",
        "        None (uses self.grads, self.model_params, self.learning_rate)\n",
        "\n",
        "    Outputs:\n",
        "        None (updates self.model_params in-place)\n",
        "    '''\n",
        "    for i in range(len(self.layer_sizes)-1):\n",
        "      self.model_params['W_' + str(i + 1)] -= self.learning_rate*self.grads['dW_' + str(i + 1)]\n",
        "      self.model_params['b_' + str(i + 1)] -= self.learning_rate*self.grads['db_' + str(i + 1)]\n",
        "\n",
        "  # TODO: implement forward for a batch X.shape = (network_input_size, number_of_instance)\n",
        "  def forward_batch(self, X):\n",
        "    '''\n",
        "    Forward propagation for a batch of input instances.\n",
        "\n",
        "    Inputs:\n",
        "        X: ndarray of shape (input_size, num_instances), input features\n",
        "\n",
        "    Outputs:\n",
        "        X: ndarray of shape (1, num_instances), final layer output (predicted probabilities)\n",
        "    '''\n",
        "    self.memory['a_0'] = X\n",
        "    for i in range(1, len(self.layer_sizes)):\n",
        "        W = self.model_params[f'W_{i}']\n",
        "        b = self.model_params[f'b_{i}']\n",
        "        X = self.sigmoid(np.dot(W, X) + b[:, None])\n",
        "        self.memory[f'a_{i}'] = X\n",
        "    return X\n",
        "\n",
        "  def sigmoid(self,x):\n",
        "    '''\n",
        "    Sigmoid activation function.\n",
        "\n",
        "    Inputs:\n",
        "        x: ndarray, input values\n",
        "\n",
        "    Outputs:\n",
        "        ndarray, sigmoid-activated values\n",
        "    '''\n",
        "    return 1/(1 + np.exp(-x))\n",
        "\n",
        "  def derivative_sigmoid(self,x):\n",
        "      '''\n",
        "    Derivative of the sigmoid function.\n",
        "\n",
        "    Assumes x has already passed through sigmoid during forward pass.\n",
        "\n",
        "    Inputs:\n",
        "        x: ndarray, sigmoid-activated values\n",
        "\n",
        "    Outputs:\n",
        "        ndarray, element-wise derivative of sigmoid\n",
        "    '''\n",
        "      return x * (1 - x)\n",
        "\n",
        "  # TODO: implement backward for a batch y.shape = (1, number_of_instance)\n",
        "  def backward_batch(self,y):\n",
        "    '''\n",
        "    Backward propagation for a batch of targets.\n",
        "\n",
        "    Inputs:\n",
        "        y: ndarray of shape (1, num_instances), true labels\n",
        "\n",
        "    Outputs:\n",
        "        None (updates self.grads with gradients of weights and biases)\n",
        "    '''\n",
        "    dz = self.memory[f'a_{len(self.layer_sizes) - 1}'] - y\n",
        "    for i in range(len(self.layer_sizes) - 1, 0, -1):\n",
        "        a_prev = self.memory[f'a_{i - 1}']\n",
        "        self.grads[f'dW_{i}'] = dz @ a_prev.T / y.shape[1]\n",
        "        self.grads[f'db_{i}'] = dz.mean(axis=1)\n",
        "        dz = np.dot(self.model_params[f'W_{i}'].T, dz) * self.derivative_sigmoid(a_prev)\n",
        "\n",
        "  # TODO: implement log_loss_batch, for a batch of instances\n",
        "  def log_loss_batch(self,y_hat_batch,y_batch):\n",
        "    '''\n",
        "    Compute the logistic loss over a batch of predictions.\n",
        "\n",
        "    Inputs:\n",
        "        y_hat_batch: ndarray of shape (1, num_instances), predicted probabilities\n",
        "        y_batch: ndarray of shape (1, num_instances), true labels\n",
        "\n",
        "    Outputs:\n",
        "        float, average logistic loss over the batch\n",
        "    '''\n",
        "    m = y_hat_batch.shape[1]\n",
        "    cost = -np.sum(y_batch * np.log(y_hat_batch) + (1 - y_batch) * np.log(1 - y_hat_batch)) / m\n",
        "    return cost.item()"
      ],
      "execution_count": 3,
      "outputs": []
    },
    {
      "cell_type": "code",
      "metadata": {
        "id": "Qib6W4QXO644"
      },
      "source": [
        "nn = MyNN(0.01, [3, 2, 1])"
      ],
      "execution_count": 4,
      "outputs": []
    },
    {
      "cell_type": "code",
      "metadata": {
        "id": "4nQR8QllPf_5",
        "colab": {
          "base_uri": "https://localhost:8080/"
        },
        "outputId": "24d355dc-75d5-4798-b28f-059b34775efc"
      },
      "source": [
        "nn.model_params"
      ],
      "execution_count": 5,
      "outputs": [
        {
          "output_type": "execute_result",
          "data": {
            "text/plain": [
              "{'W_1': array([[ 0.04967142, -0.01382643,  0.06476885],\n",
              "        [ 0.15230299, -0.02341534, -0.0234137 ]]),\n",
              " 'b_1': array([0.15792128, 0.07674347]),\n",
              " 'W_2': array([[-0.04694744,  0.054256  ]]),\n",
              " 'b_2': array([-0.04634177])}"
            ]
          },
          "metadata": {},
          "execution_count": 5
        }
      ]
    },
    {
      "cell_type": "code",
      "metadata": {
        "id": "VXiyn-yrPC6-",
        "colab": {
          "base_uri": "https://localhost:8080/"
        },
        "outputId": "f9afc95d-4e08-453c-a6fb-316d4ac402db"
      },
      "source": [
        "x = np.random.randn(3)\n",
        "y = np.random.randn(1)\n",
        "\n",
        "y_hat = nn.forward_single_instance(x)\n",
        "print(y_hat)"
      ],
      "execution_count": 6,
      "outputs": [
        {
          "output_type": "stream",
          "name": "stdout",
          "text": [
            "[0.48946]\n"
          ]
        }
      ]
    },
    {
      "cell_type": "code",
      "metadata": {
        "id": "k5M50i3plclj",
        "colab": {
          "base_uri": "https://localhost:8080/"
        },
        "outputId": "b2f3d8d5-3875-48b0-f4c9-3835e7dd1f09"
      },
      "source": [
        "nn.backward_single_instance(y)"
      ],
      "execution_count": 7,
      "outputs": [
        {
          "output_type": "stream",
          "name": "stdout",
          "text": [
            "2\n",
            "1\n"
          ]
        }
      ]
    },
    {
      "cell_type": "code",
      "metadata": {
        "id": "CWnZB1YmYnIt"
      },
      "source": [
        "def train(X, y, X_val, y_val, epochs, batch_size, verbose=True):\n",
        "    '''\n",
        "    Train the network and track both training and validation loss.\n",
        "\n",
        "    Inputs:\n",
        "        X, y         - training data (X: shape=(features, samples), y: shape=(1, samples))\n",
        "        X_val, y_val - validation data\n",
        "        epochs       - number of training epochs\n",
        "        batch_size   - number of samples per batch\n",
        "        verbose      - whether to print progress\n",
        "\n",
        "    Outputs:\n",
        "        train_loss_trace - list of training losses per epoch\n",
        "        val_loss_trace   - list of validation losses per epoch\n",
        "    '''\n",
        "    train_loss_trace = []\n",
        "    val_loss_trace = []\n",
        "\n",
        "    for e in range(1, epochs + 1):\n",
        "        total_loss = 0\n",
        "\n",
        "        # Shuffle training data\n",
        "        perm = np.random.permutation(X.shape[1])\n",
        "        X_shuffled, y_shuffled = X[:, perm], y[:, perm]\n",
        "\n",
        "        # Split into batches\n",
        "        batches = list(zip(\n",
        "            np.array_split(X_shuffled, batch_size, axis=1),\n",
        "            np.array_split(y_shuffled, batch_size, axis=1)\n",
        "        ))\n",
        "\n",
        "        for X_b, y_b in batches:\n",
        "            y_hat = nn.forward_batch(X_b)\n",
        "            total_loss += nn.log_loss_batch(y_hat, y_b)\n",
        "            nn.backward_batch(y_b)\n",
        "            nn.update()\n",
        "\n",
        "        avg_train_loss = total_loss / len(batches)\n",
        "        train_loss_trace.append(avg_train_loss)\n",
        "\n",
        "        # Compute validation loss\n",
        "        y_val_pred = nn.forward_batch(X_val)\n",
        "        val_loss = nn.log_loss_batch(y_val_pred, y_val)\n",
        "        val_loss_trace.append(val_loss)\n",
        "\n",
        "        if verbose:\n",
        "            print(f'Epoch {e}, train_loss={avg_train_loss:.4f}, val_loss={val_loss:.4f}')\n",
        "\n",
        "    return train_loss_trace, val_loss_trace"
      ],
      "execution_count": 8,
      "outputs": []
    },
    {
      "cell_type": "markdown",
      "source": [
        "### Note:\n",
        "We compute the average training loss per epoch by dividing the total loss by the number of batches.\n",
        "This ensures the loss is independent of batch size and comparable across epochs and with the validation loss,\n",
        "which is also averaged. Averaging makes the training curve interpretable and consistent for monitoring progress."
      ],
      "metadata": {
        "id": "wklPZB_Sf-to"
      }
    },
    {
      "cell_type": "code",
      "source": [
        "# TODO: Make sure the following network trains properly\n",
        "nn = MyNN(0.001, [6, 4, 3, 1])\n",
        "\n",
        "X = np.random.randn(6, 100)\n",
        "y = np.random.randn(1, 100)\n",
        "\n",
        "# Split dummy data into training and validation\n",
        "X_train, X_val, y_train, y_val = train_test_split(X.T, y.T, test_size=0.2, random_state=42)\n",
        "X_train, X_val = X_train.T, X_val.T\n",
        "y_train, y_val = y_train.T, y_val.T\n",
        "\n",
        "batch_size = 8\n",
        "epochs = 2\n",
        "\n",
        "# Call train function\n",
        "train_losses, val_losses = train(X_train, y_train, X_val, y_val, epochs, batch_size)"
      ],
      "metadata": {
        "colab": {
          "base_uri": "https://localhost:8080/"
        },
        "id": "iGdmU4RbPOtP",
        "outputId": "253a324e-095f-4a6a-cb5a-85f5a598dd6d"
      },
      "execution_count": 9,
      "outputs": [
        {
          "output_type": "stream",
          "name": "stdout",
          "text": [
            "Epoch 1, train_loss=0.7038, val_loss=0.6986\n",
            "Epoch 2, train_loss=0.6982, val_loss=0.6945\n"
          ]
        }
      ]
    },
    {
      "cell_type": "markdown",
      "source": [
        "**As we can see:**\n",
        "\n",
        "* Loss is slightly decreasing → model is training correctly\n",
        "* Loss values (\\~0.69) are close to random guess → model hasn't learned much yet\n",
        "* Only 2 epochs → not enough to evaluate learning progress\n",
        "* No overfitting observed → training is stable\n",
        "* Model likely underfitting → increase epochs or model size for better results\n"
      ],
      "metadata": {
        "id": "jiMENyrYqZpf"
      }
    },
    {
      "cell_type": "markdown",
      "metadata": {
        "id": "6dY4scUksulC"
      },
      "source": [
        "#TODO: train on an external dataset\n",
        "\n",
        "Train on the *hour.csv* file with a split of 75% training 10% validation and 15% for test.\n",
        "Use the following features from the data:\n",
        "\n",
        "* temp\n",
        "* atemp\n",
        "* hum\n",
        "* windspeed\n",
        "* weekday\n",
        "\n",
        "The response variable is, *success*\n",
        "\n",
        "The architecture of the network should be: [5, 40, 30, 10, 7, 5, 3, 1].\n",
        "\n",
        "Use batch_size=8, and train it for 100 epochs on the train set (based on the split as requested above).\n",
        "\n",
        "Then, plot train and validation loss per epoch."
      ]
    },
    {
      "cell_type": "markdown",
      "source": [
        "##  your code goes here"
      ],
      "metadata": {
        "id": "ZKAxdO2I1IGT"
      }
    },
    {
      "cell_type": "markdown",
      "source": [
        "###  Data Preprocessing"
      ],
      "metadata": {
        "id": "CHGoWEJk1K7r"
      }
    },
    {
      "cell_type": "code",
      "source": [
        "# TODO: Preprocess the bike sharing dataset ('hour.csv')\n",
        "# - Load the dataset from the provided hour.csv file\n",
        "df = pd.read_csv('hour.csv')"
      ],
      "metadata": {
        "id": "-4HTc7cMDojL"
      },
      "execution_count": 10,
      "outputs": []
    },
    {
      "cell_type": "code",
      "source": [
        "# - Extract the target variable (success)\n",
        "df[\"success\"] = (df[\"cnt\"] > df[\"cnt\"].mean()).astype(float)"
      ],
      "metadata": {
        "id": "20eUoK7jDr3U"
      },
      "execution_count": 11,
      "outputs": []
    },
    {
      "cell_type": "code",
      "source": [
        "# - Normalize/standardize features if necessary\n",
        "# Normalize all features using MinMaxScaler to bring values into [0, 1]\n",
        "scaler = MinMaxScaler()\n",
        "df[['temp', 'atemp', 'hum', 'windspeed', 'weekday']] = scaler.fit_transform(\n",
        "    df[['temp', 'atemp', 'hum', 'windspeed', 'weekday']]\n",
        ")\n",
        "\n",
        "df.sample()"
      ],
      "metadata": {
        "colab": {
          "base_uri": "https://localhost:8080/",
          "height": 100
        },
        "id": "tBuzrqsXDvju",
        "outputId": "de38867e-21d8-46c8-f671-084e892e9f55"
      },
      "execution_count": 12,
      "outputs": [
        {
          "output_type": "execute_result",
          "data": {
            "text/plain": [
              "      instant      dteday  season  yr  mnth  hr  holiday  weekday  workingday  \\\n",
              "3703     3704  08/06/2011       2   0     6   5        0      0.5           1   \n",
              "\n",
              "      weathersit      temp   atemp   hum  windspeed  casual  registered  cnt  \\\n",
              "3703           1  0.612245  0.5606  0.88        0.0       0          21   21   \n",
              "\n",
              "      success  \n",
              "3703      0.0  "
            ],
            "text/html": [
              "\n",
              "  <div id=\"df-ed2ebe7c-fa44-48b4-9061-1b4b73f9b4a1\" class=\"colab-df-container\">\n",
              "    <div>\n",
              "<style scoped>\n",
              "    .dataframe tbody tr th:only-of-type {\n",
              "        vertical-align: middle;\n",
              "    }\n",
              "\n",
              "    .dataframe tbody tr th {\n",
              "        vertical-align: top;\n",
              "    }\n",
              "\n",
              "    .dataframe thead th {\n",
              "        text-align: right;\n",
              "    }\n",
              "</style>\n",
              "<table border=\"1\" class=\"dataframe\">\n",
              "  <thead>\n",
              "    <tr style=\"text-align: right;\">\n",
              "      <th></th>\n",
              "      <th>instant</th>\n",
              "      <th>dteday</th>\n",
              "      <th>season</th>\n",
              "      <th>yr</th>\n",
              "      <th>mnth</th>\n",
              "      <th>hr</th>\n",
              "      <th>holiday</th>\n",
              "      <th>weekday</th>\n",
              "      <th>workingday</th>\n",
              "      <th>weathersit</th>\n",
              "      <th>temp</th>\n",
              "      <th>atemp</th>\n",
              "      <th>hum</th>\n",
              "      <th>windspeed</th>\n",
              "      <th>casual</th>\n",
              "      <th>registered</th>\n",
              "      <th>cnt</th>\n",
              "      <th>success</th>\n",
              "    </tr>\n",
              "  </thead>\n",
              "  <tbody>\n",
              "    <tr>\n",
              "      <th>3703</th>\n",
              "      <td>3704</td>\n",
              "      <td>08/06/2011</td>\n",
              "      <td>2</td>\n",
              "      <td>0</td>\n",
              "      <td>6</td>\n",
              "      <td>5</td>\n",
              "      <td>0</td>\n",
              "      <td>0.5</td>\n",
              "      <td>1</td>\n",
              "      <td>1</td>\n",
              "      <td>0.612245</td>\n",
              "      <td>0.5606</td>\n",
              "      <td>0.88</td>\n",
              "      <td>0.0</td>\n",
              "      <td>0</td>\n",
              "      <td>21</td>\n",
              "      <td>21</td>\n",
              "      <td>0.0</td>\n",
              "    </tr>\n",
              "  </tbody>\n",
              "</table>\n",
              "</div>\n",
              "    <div class=\"colab-df-buttons\">\n",
              "\n",
              "  <div class=\"colab-df-container\">\n",
              "    <button class=\"colab-df-convert\" onclick=\"convertToInteractive('df-ed2ebe7c-fa44-48b4-9061-1b4b73f9b4a1')\"\n",
              "            title=\"Convert this dataframe to an interactive table.\"\n",
              "            style=\"display:none;\">\n",
              "\n",
              "  <svg xmlns=\"http://www.w3.org/2000/svg\" height=\"24px\" viewBox=\"0 -960 960 960\">\n",
              "    <path d=\"M120-120v-720h720v720H120Zm60-500h600v-160H180v160Zm220 220h160v-160H400v160Zm0 220h160v-160H400v160ZM180-400h160v-160H180v160Zm440 0h160v-160H620v160ZM180-180h160v-160H180v160Zm440 0h160v-160H620v160Z\"/>\n",
              "  </svg>\n",
              "    </button>\n",
              "\n",
              "  <style>\n",
              "    .colab-df-container {\n",
              "      display:flex;\n",
              "      gap: 12px;\n",
              "    }\n",
              "\n",
              "    .colab-df-convert {\n",
              "      background-color: #E8F0FE;\n",
              "      border: none;\n",
              "      border-radius: 50%;\n",
              "      cursor: pointer;\n",
              "      display: none;\n",
              "      fill: #1967D2;\n",
              "      height: 32px;\n",
              "      padding: 0 0 0 0;\n",
              "      width: 32px;\n",
              "    }\n",
              "\n",
              "    .colab-df-convert:hover {\n",
              "      background-color: #E2EBFA;\n",
              "      box-shadow: 0px 1px 2px rgba(60, 64, 67, 0.3), 0px 1px 3px 1px rgba(60, 64, 67, 0.15);\n",
              "      fill: #174EA6;\n",
              "    }\n",
              "\n",
              "    .colab-df-buttons div {\n",
              "      margin-bottom: 4px;\n",
              "    }\n",
              "\n",
              "    [theme=dark] .colab-df-convert {\n",
              "      background-color: #3B4455;\n",
              "      fill: #D2E3FC;\n",
              "    }\n",
              "\n",
              "    [theme=dark] .colab-df-convert:hover {\n",
              "      background-color: #434B5C;\n",
              "      box-shadow: 0px 1px 3px 1px rgba(0, 0, 0, 0.15);\n",
              "      filter: drop-shadow(0px 1px 2px rgba(0, 0, 0, 0.3));\n",
              "      fill: #FFFFFF;\n",
              "    }\n",
              "  </style>\n",
              "\n",
              "    <script>\n",
              "      const buttonEl =\n",
              "        document.querySelector('#df-ed2ebe7c-fa44-48b4-9061-1b4b73f9b4a1 button.colab-df-convert');\n",
              "      buttonEl.style.display =\n",
              "        google.colab.kernel.accessAllowed ? 'block' : 'none';\n",
              "\n",
              "      async function convertToInteractive(key) {\n",
              "        const element = document.querySelector('#df-ed2ebe7c-fa44-48b4-9061-1b4b73f9b4a1');\n",
              "        const dataTable =\n",
              "          await google.colab.kernel.invokeFunction('convertToInteractive',\n",
              "                                                    [key], {});\n",
              "        if (!dataTable) return;\n",
              "\n",
              "        const docLinkHtml = 'Like what you see? Visit the ' +\n",
              "          '<a target=\"_blank\" href=https://colab.research.google.com/notebooks/data_table.ipynb>data table notebook</a>'\n",
              "          + ' to learn more about interactive tables.';\n",
              "        element.innerHTML = '';\n",
              "        dataTable['output_type'] = 'display_data';\n",
              "        await google.colab.output.renderOutput(dataTable, element);\n",
              "        const docLink = document.createElement('div');\n",
              "        docLink.innerHTML = docLinkHtml;\n",
              "        element.appendChild(docLink);\n",
              "      }\n",
              "    </script>\n",
              "  </div>\n",
              "\n",
              "\n",
              "    </div>\n",
              "  </div>\n"
            ],
            "application/vnd.google.colaboratory.intrinsic+json": {
              "type": "dataframe",
              "repr_error": "0"
            }
          },
          "metadata": {},
          "execution_count": 12
        }
      ]
    },
    {
      "cell_type": "code",
      "source": [
        "# histogram of the 'success' variable\n",
        "df[\"success\"].plot(kind='hist', color='orange', edgecolor='none')\n",
        "plt.ylabel('')\n",
        "plt.grid(False)\n",
        "plt.show()"
      ],
      "metadata": {
        "colab": {
          "base_uri": "https://localhost:8080/",
          "height": 430
        },
        "id": "mEvjaojsDooI",
        "outputId": "4908c89e-d1a7-4f7d-8368-feb2c7ebd7e7"
      },
      "execution_count": 13,
      "outputs": [
        {
          "output_type": "display_data",
          "data": {
            "text/plain": [
              "<Figure size 640x480 with 1 Axes>"
            ],
            "image/png": "[encoded data removed]"
          },
          "metadata": {}
        }
      ]
    },
    {
      "cell_type": "markdown",
      "source": [
        "**It can be seen from the matrix that there is a high correlation between 'atemp' and 'temp'.**"
      ],
      "metadata": {
        "id": "2v4KC24VZoiW"
      }
    },
    {
      "cell_type": "code",
      "source": [
        "# calculates the pairwise Pearson correlation coefficients\n",
        "df[[\"temp\", \"atemp\", \"hum\", \"windspeed\", \"weekday\", \"success\"]].corr()"
      ],
      "metadata": {
        "colab": {
          "base_uri": "https://localhost:8080/",
          "height": 237
        },
        "id": "PaeYr7rfD595",
        "outputId": "58352e8f-3d72-490b-9bf0-ddef4985e9df"
      },
      "execution_count": 14,
      "outputs": [
        {
          "output_type": "execute_result",
          "data": {
            "text/plain": [
              "               temp     atemp       hum  windspeed   weekday   success\n",
              "temp       1.000000  0.987672 -0.069881  -0.023125 -0.001795  0.382151\n",
              "atemp      0.987672  1.000000 -0.051918  -0.062336 -0.008821  0.381635\n",
              "hum       -0.069881 -0.051918  1.000000  -0.290105 -0.037158 -0.301252\n",
              "windspeed -0.023125 -0.062336 -0.290105   1.000000  0.011502  0.072834\n",
              "weekday   -0.001795 -0.008821 -0.037158   0.011502  1.000000  0.035353\n",
              "success    0.382151  0.381635 -0.301252   0.072834  0.035353  1.000000"
            ],
            "text/html": [
              "\n",
              "  <div id=\"df-d1379230-3dd4-4dcb-81d2-947e7d0429d8\" class=\"colab-df-container\">\n",
              "    <div>\n",
              "<style scoped>\n",
              "    .dataframe tbody tr th:only-of-type {\n",
              "        vertical-align: middle;\n",
              "    }\n",
              "\n",
              "    .dataframe tbody tr th {\n",
              "        vertical-align: top;\n",
              "    }\n",
              "\n",
              "    .dataframe thead th {\n",
              "        text-align: right;\n",
              "    }\n",
              "</style>\n",
              "<table border=\"1\" class=\"dataframe\">\n",
              "  <thead>\n",
              "    <tr style=\"text-align: right;\">\n",
              "      <th></th>\n",
              "      <th>temp</th>\n",
              "      <th>atemp</th>\n",
              "      <th>hum</th>\n",
              "      <th>windspeed</th>\n",
              "      <th>weekday</th>\n",
              "      <th>success</th>\n",
              "    </tr>\n",
              "  </thead>\n",
              "  <tbody>\n",
              "    <tr>\n",
              "      <th>temp</th>\n",
              "      <td>1.000000</td>\n",
              "      <td>0.987672</td>\n",
              "      <td>-0.069881</td>\n",
              "      <td>-0.023125</td>\n",
              "      <td>-0.001795</td>\n",
              "      <td>0.382151</td>\n",
              "    </tr>\n",
              "    <tr>\n",
              "      <th>atemp</th>\n",
              "      <td>0.987672</td>\n",
              "      <td>1.000000</td>\n",
              "      <td>-0.051918</td>\n",
              "      <td>-0.062336</td>\n",
              "      <td>-0.008821</td>\n",
              "      <td>0.381635</td>\n",
              "    </tr>\n",
              "    <tr>\n",
              "      <th>hum</th>\n",
              "      <td>-0.069881</td>\n",
              "      <td>-0.051918</td>\n",
              "      <td>1.000000</td>\n",
              "      <td>-0.290105</td>\n",
              "      <td>-0.037158</td>\n",
              "      <td>-0.301252</td>\n",
              "    </tr>\n",
              "    <tr>\n",
              "      <th>windspeed</th>\n",
              "      <td>-0.023125</td>\n",
              "      <td>-0.062336</td>\n",
              "      <td>-0.290105</td>\n",
              "      <td>1.000000</td>\n",
              "      <td>0.011502</td>\n",
              "      <td>0.072834</td>\n",
              "    </tr>\n",
              "    <tr>\n",
              "      <th>weekday</th>\n",
              "      <td>-0.001795</td>\n",
              "      <td>-0.008821</td>\n",
              "      <td>-0.037158</td>\n",
              "      <td>0.011502</td>\n",
              "      <td>1.000000</td>\n",
              "      <td>0.035353</td>\n",
              "    </tr>\n",
              "    <tr>\n",
              "      <th>success</th>\n",
              "      <td>0.382151</td>\n",
              "      <td>0.381635</td>\n",
              "      <td>-0.301252</td>\n",
              "      <td>0.072834</td>\n",
              "      <td>0.035353</td>\n",
              "      <td>1.000000</td>\n",
              "    </tr>\n",
              "  </tbody>\n",
              "</table>\n",
              "</div>\n",
              "    <div class=\"colab-df-buttons\">\n",
              "\n",
              "  <div class=\"colab-df-container\">\n",
              "    <button class=\"colab-df-convert\" onclick=\"convertToInteractive('df-d1379230-3dd4-4dcb-81d2-947e7d0429d8')\"\n",
              "            title=\"Convert this dataframe to an interactive table.\"\n",
              "            style=\"display:none;\">\n",
              "\n",
              "  <svg xmlns=\"http://www.w3.org/2000/svg\" height=\"24px\" viewBox=\"0 -960 960 960\">\n",
              "    <path d=\"M120-120v-720h720v720H120Zm60-500h600v-160H180v160Zm220 220h160v-160H400v160Zm0 220h160v-160H400v160ZM180-400h160v-160H180v160Zm440 0h160v-160H620v160ZM180-180h160v-160H180v160Zm440 0h160v-160H620v160Z\"/>\n",
              "  </svg>\n",
              "    </button>\n",
              "\n",
              "  <style>\n",
              "    .colab-df-container {\n",
              "      display:flex;\n",
              "      gap: 12px;\n",
              "    }\n",
              "\n",
              "    .colab-df-convert {\n",
              "      background-color: #E8F0FE;\n",
              "      border: none;\n",
              "      border-radius: 50%;\n",
              "      cursor: pointer;\n",
              "      display: none;\n",
              "      fill: #1967D2;\n",
              "      height: 32px;\n",
              "      padding: 0 0 0 0;\n",
              "      width: 32px;\n",
              "    }\n",
              "\n",
              "    .colab-df-convert:hover {\n",
              "      background-color: #E2EBFA;\n",
              "      box-shadow: 0px 1px 2px rgba(60, 64, 67, 0.3), 0px 1px 3px 1px rgba(60, 64, 67, 0.15);\n",
              "      fill: #174EA6;\n",
              "    }\n",
              "\n",
              "    .colab-df-buttons div {\n",
              "      margin-bottom: 4px;\n",
              "    }\n",
              "\n",
              "    [theme=dark] .colab-df-convert {\n",
              "      background-color: #3B4455;\n",
              "      fill: #D2E3FC;\n",
              "    }\n",
              "\n",
              "    [theme=dark] .colab-df-convert:hover {\n",
              "      background-color: #434B5C;\n",
              "      box-shadow: 0px 1px 3px 1px rgba(0, 0, 0, 0.15);\n",
              "      filter: drop-shadow(0px 1px 2px rgba(0, 0, 0, 0.3));\n",
              "      fill: #FFFFFF;\n",
              "    }\n",
              "  </style>\n",
              "\n",
              "    <script>\n",
              "      const buttonEl =\n",
              "        document.querySelector('#df-d1379230-3dd4-4dcb-81d2-947e7d0429d8 button.colab-df-convert');\n",
              "      buttonEl.style.display =\n",
              "        google.colab.kernel.accessAllowed ? 'block' : 'none';\n",
              "\n",
              "      async function convertToInteractive(key) {\n",
              "        const element = document.querySelector('#df-d1379230-3dd4-4dcb-81d2-947e7d0429d8');\n",
              "        const dataTable =\n",
              "          await google.colab.kernel.invokeFunction('convertToInteractive',\n",
              "                                                    [key], {});\n",
              "        if (!dataTable) return;\n",
              "\n",
              "        const docLinkHtml = 'Like what you see? Visit the ' +\n",
              "          '<a target=\"_blank\" href=https://colab.research.google.com/notebooks/data_table.ipynb>data table notebook</a>'\n",
              "          + ' to learn more about interactive tables.';\n",
              "        element.innerHTML = '';\n",
              "        dataTable['output_type'] = 'display_data';\n",
              "        await google.colab.output.renderOutput(dataTable, element);\n",
              "        const docLink = document.createElement('div');\n",
              "        docLink.innerHTML = docLinkHtml;\n",
              "        element.appendChild(docLink);\n",
              "      }\n",
              "    </script>\n",
              "  </div>\n",
              "\n",
              "\n",
              "    <div id=\"df-6e5ae131-9f4d-471d-9641-1ddcbf40dd3b\">\n",
              "      <button class=\"colab-df-quickchart\" onclick=\"quickchart('df-6e5ae131-9f4d-471d-9641-1ddcbf40dd3b')\"\n",
              "                title=\"Suggest charts\"\n",
              "                style=\"display:none;\">\n",
              "\n",
              "<svg xmlns=\"http://www.w3.org/2000/svg\" height=\"24px\"viewBox=\"0 0 24 24\"\n",
              "     width=\"24px\">\n",
              "    <g>\n",
              "        <path d=\"M19 3H5c-1.1 0-2 .9-2 2v14c0 1.1.9 2 2 2h14c1.1 0 2-.9 2-2V5c0-1.1-.9-2-2-2zM9 17H7v-7h2v7zm4 0h-2V7h2v10zm4 0h-2v-4h2v4z\"/>\n",
              "    </g>\n",
              "</svg>\n",
              "      </button>\n",
              "\n",
              "<style>\n",
              "  .colab-df-quickchart {\n",
              "      --bg-color: #E8F0FE;\n",
              "      --fill-color: #1967D2;\n",
              "      --hover-bg-color: #E2EBFA;\n",
              "      --hover-fill-color: #174EA6;\n",
              "      --disabled-fill-color: #AAA;\n",
              "      --disabled-bg-color: #DDD;\n",
              "  }\n",
              "\n",
              "  [theme=dark] .colab-df-quickchart {\n",
              "      --bg-color: #3B4455;\n",
              "      --fill-color: #D2E3FC;\n",
              "      --hover-bg-color: #434B5C;\n",
              "      --hover-fill-color: #FFFFFF;\n",
              "      --disabled-bg-color: #3B4455;\n",
              "      --disabled-fill-color: #666;\n",
              "  }\n",
              "\n",
              "  .colab-df-quickchart {\n",
              "    background-color: var(--bg-color);\n",
              "    border: none;\n",
              "    border-radius: 50%;\n",
              "    cursor: pointer;\n",
              "    display: none;\n",
              "    fill: var(--fill-color);\n",
              "    height: 32px;\n",
              "    padding: 0;\n",
              "    width: 32px;\n",
              "  }\n",
              "\n",
              "  .colab-df-quickchart:hover {\n",
              "    background-color: var(--hover-bg-color);\n",
              "    box-shadow: 0 1px 2px rgba(60, 64, 67, 0.3), 0 1px 3px 1px rgba(60, 64, 67, 0.15);\n",
              "    fill: var(--button-hover-fill-color);\n",
              "  }\n",
              "\n",
              "  .colab-df-quickchart-complete:disabled,\n",
              "  .colab-df-quickchart-complete:disabled:hover {\n",
              "    background-color: var(--disabled-bg-color);\n",
              "    fill: var(--disabled-fill-color);\n",
              "    box-shadow: none;\n",
              "  }\n",
              "\n",
              "  .colab-df-spinner {\n",
              "    border: 2px solid var(--fill-color);\n",
              "    border-color: transparent;\n",
              "    border-bottom-color: var(--fill-color);\n",
              "    animation:\n",
              "      spin 1s steps(1) infinite;\n",
              "  }\n",
              "\n",
              "  @keyframes spin {\n",
              "    0% {\n",
              "      border-color: transparent;\n",
              "      border-bottom-color: var(--fill-color);\n",
              "      border-left-color: var(--fill-color);\n",
              "    }\n",
              "    20% {\n",
              "      border-color: transparent;\n",
              "      border-left-color: var(--fill-color);\n",
              "      border-top-color: var(--fill-color);\n",
              "    }\n",
              "    30% {\n",
              "      border-color: transparent;\n",
              "      border-left-color: var(--fill-color);\n",
              "      border-top-color: var(--fill-color);\n",
              "      border-right-color: var(--fill-color);\n",
              "    }\n",
              "    40% {\n",
              "      border-color: transparent;\n",
              "      border-right-color: var(--fill-color);\n",
              "      border-top-color: var(--fill-color);\n",
              "    }\n",
              "    60% {\n",
              "      border-color: transparent;\n",
              "      border-right-color: var(--fill-color);\n",
              "    }\n",
              "    80% {\n",
              "      border-color: transparent;\n",
              "      border-right-color: var(--fill-color);\n",
              "      border-bottom-color: var(--fill-color);\n",
              "    }\n",
              "    90% {\n",
              "      border-color: transparent;\n",
              "      border-bottom-color: var(--fill-color);\n",
              "    }\n",
              "  }\n",
              "</style>\n",
              "\n",
              "      <script>\n",
              "        async function quickchart(key) {\n",
              "          const quickchartButtonEl =\n",
              "            document.querySelector('#' + key + ' button');\n",
              "          quickchartButtonEl.disabled = true;  // To prevent multiple clicks.\n",
              "          quickchartButtonEl.classList.add('colab-df-spinner');\n",
              "          try {\n",
              "            const charts = await google.colab.kernel.invokeFunction(\n",
              "                'suggestCharts', [key], {});\n",
              "          } catch (error) {\n",
              "            console.error('Error during call to suggestCharts:', error);\n",
              "          }\n",
              "          quickchartButtonEl.classList.remove('colab-df-spinner');\n",
              "          quickchartButtonEl.classList.add('colab-df-quickchart-complete');\n",
              "        }\n",
              "        (() => {\n",
              "          let quickchartButtonEl =\n",
              "            document.querySelector('#df-6e5ae131-9f4d-471d-9641-1ddcbf40dd3b button');\n",
              "          quickchartButtonEl.style.display =\n",
              "            google.colab.kernel.accessAllowed ? 'block' : 'none';\n",
              "        })();\n",
              "      </script>\n",
              "    </div>\n",
              "\n",
              "    </div>\n",
              "  </div>\n"
            ],
            "application/vnd.google.colaboratory.intrinsic+json": {
              "type": "dataframe",
              "summary": "{\n  \"name\": \"df[[\\\"temp\\\", \\\"atemp\\\", \\\"hum\\\", \\\"windspeed\\\", \\\"weekday\\\", \\\"success\\\"]]\",\n  \"rows\": 6,\n  \"fields\": [\n    {\n      \"column\": \"temp\",\n      \"properties\": {\n        \"dtype\": \"number\",\n        \"std\": 0.5028591323226711,\n        \"min\": -0.06988139105119462,\n        \"max\": 1.0,\n        \"num_unique_values\": 6,\n        \"samples\": [\n          1.0,\n          0.9876721390396443,\n          0.3821511190823501\n        ],\n        \"semantic_type\": \"\",\n        \"description\": \"\"\n      }\n    },\n    {\n      \"column\": \"atemp\",\n      \"properties\": {\n        \"dtype\": \"number\",\n        \"std\": 0.507321171091328,\n        \"min\": -0.06233604268695681,\n        \"max\": 1.0,\n        \"num_unique_values\": 6,\n        \"samples\": [\n          0.9876721390396443,\n          1.0,\n          0.38163463527098346\n        ],\n        \"semantic_type\": \"\",\n        \"description\": \"\"\n      }\n    },\n    {\n      \"column\": \"hum\",\n      \"properties\": {\n        \"dtype\": \"number\",\n        \"std\": 0.48445488589915786,\n        \"min\": -0.3012519525217246,\n        \"max\": 1.0,\n        \"num_unique_values\": 6,\n        \"samples\": [\n          -0.06988139105119462,\n          -0.05191769599336794,\n          -0.3012519525217246\n        ],\n        \"semantic_type\": \"\",\n        \"description\": \"\"\n      }\n    },\n    {\n      \"column\": \"windspeed\",\n      \"properties\": {\n        \"dtype\": \"number\",\n        \"std\": 0.44950924566799405,\n        \"min\": -0.29010489506385967,\n        \"max\": 1.0,\n        \"num_unique_values\": 6,\n        \"samples\": [\n          -0.023125262485332525,\n          -0.06233604268695681,\n          0.07283414830715634\n        ],\n        \"semantic_type\": \"\",\n        \"description\": \"\"\n      }\n    },\n    {\n      \"column\": \"weekday\",\n      \"properties\": {\n        \"dtype\": \"number\",\n        \"std\": 0.40901923354829256,\n        \"min\": -0.037158268218559005,\n        \"max\": 1.0,\n        \"num_unique_values\": 6,\n        \"samples\": [\n          -0.0017949269841724493,\n          -0.008820944779345618,\n          0.03535278945681801\n        ],\n        \"semantic_type\": \"\",\n        \"description\": \"\"\n      }\n    },\n    {\n      \"column\": \"success\",\n      \"properties\": {\n        \"dtype\": \"number\",\n        \"std\": 0.44222118993444554,\n        \"min\": -0.3012519525217246,\n        \"max\": 1.0,\n        \"num_unique_values\": 6,\n        \"samples\": [\n          0.3821511190823501,\n          0.38163463527098346,\n          1.0\n        ],\n        \"semantic_type\": \"\",\n        \"description\": \"\"\n      }\n    }\n  ]\n}"
            }
          },
          "metadata": {},
          "execution_count": 14
        }
      ]
    },
    {
      "cell_type": "markdown",
      "source": [
        "**Checking if all your features are between 0 and 1:**"
      ],
      "metadata": {
        "id": "YeDHdH1vjrmH"
      }
    },
    {
      "cell_type": "code",
      "source": [
        "# Prepare features and labels\n",
        "# - Select the required features (temp, atemp, hum, windspeed, weekday)\n",
        "X = df[['temp', 'atemp', 'hum', 'windspeed', 'weekday']].to_numpy()\n",
        "\n",
        "# Check if all values in each column of X are between 0 and 1\n",
        "feature_min = X.min(axis=0)\n",
        "feature_max = X.max(axis=0)\n",
        "\n",
        "print(\"Minimum values per feature:\", feature_min)\n",
        "print(\"Maximum values per feature:\", feature_max)\n",
        "\n",
        "all_between_0_and_1 = np.all((X >= 0) & (X <= 1))\n",
        "print(\"All data between 0 and 1:\", all_between_0_and_1)"
      ],
      "metadata": {
        "colab": {
          "base_uri": "https://localhost:8080/"
        },
        "id": "pf2iqirHjhab",
        "outputId": "6b89cbab-2004-4f73-f23b-a56d2f08ac16"
      },
      "execution_count": 15,
      "outputs": [
        {
          "output_type": "stream",
          "name": "stdout",
          "text": [
            "Minimum values per feature: [0. 0. 0. 0. 0.]\n",
            "Maximum values per feature: [1. 1. 1. 1. 1.]\n",
            "All data between 0 and 1: True\n"
          ]
        }
      ]
    },
    {
      "cell_type": "code",
      "source": [
        "# - Split the data into training (75%), validation (10%), and test (15%) sets\n",
        "# Prepare features and labels\n",
        "# - Select the required features (temp, atemp, hum, windspeed, weekday)\n",
        "# X = df[['temp', 'atemp', 'hum', 'windspeed', 'weekday']].to_numpy()\n",
        "y = df[\"success\"].to_numpy()\n",
        "\n",
        "# Train/test split (75% train, 25% test)\n",
        "X_train_full, X_test, y_train_full, y_test = train_test_split(X, y, test_size=0.25, random_state=42)\n",
        "\n",
        "# From train set, split off 10% for validation\n",
        "X_train, X_val, y_train, y_val = train_test_split(X_train_full, y_train_full, test_size=0.1, random_state=42)\n",
        "\n",
        "# Reshape to match network input format\n",
        "X_train, X_val, X_test = X_train.T, X_val.T, X_test.T\n",
        "y_train = y_train[np.newaxis, :]\n",
        "y_val = y_val[np.newaxis, :]\n",
        "y_test = y_test[np.newaxis, :]\n"
      ],
      "metadata": {
        "id": "e4Ra8vc_1NCE"
      },
      "execution_count": 16,
      "outputs": []
    },
    {
      "cell_type": "markdown",
      "source": [
        "### Model Training\n"
      ],
      "metadata": {
        "id": "glp6Vz3B1TZo"
      }
    },
    {
      "cell_type": "code",
      "source": [
        "# TODO: Train the neural network\n",
        "# - Create DataLoader objects with batch_size=8\n",
        "# Initialize model\n",
        "# - Implement the network with architecture [5, 40, 30, 10, 7, 5, 3, 1]\n",
        "nn = MyNN(0.01, [5, 40, 30, 10, 7, 5, 3, 1])\n",
        "\n",
        "# - Use batch_size=8 as specified\n",
        "batch_size = 8\n",
        "# - Train for exactly 100 epochs on the training set\n",
        "epochs = 100\n",
        "\n",
        "# - Calculate and store train and validation loss for each epoch\n",
        "# Train and get loss traces\n",
        "train_losses, val_losses = train(X_train, y_train, X_val, y_val, epochs, batch_size, verbose=False)"
      ],
      "metadata": {
        "id": "FDlNnrYIEL6q"
      },
      "execution_count": 17,
      "outputs": []
    },
    {
      "cell_type": "markdown",
      "source": [
        "### Visualization"
      ],
      "metadata": {
        "id": "cwBcg1yy1b-j"
      }
    },
    {
      "cell_type": "code",
      "source": [
        "# TODO: Create visualizations of the learning process\n",
        "# - Track training progres\n",
        "# Plot training and validation loss per epoch\n",
        "# - Make sure all plots have proper labels, titles, and legends\n",
        "# - Compare test performance with training/validation performance\n",
        "plt.figure(figsize=(12, 8))\n",
        "plt.plot(train_losses, label='Train Loss')\n",
        "plt.plot(val_losses, label='Validation Loss')\n",
        "plt.xlabel('Epoch Number')\n",
        "plt.ylabel('Loss')\n",
        "plt.legend()\n",
        "plt.show()"
      ],
      "metadata": {
        "colab": {
          "base_uri": "https://localhost:8080/",
          "height": 696
        },
        "id": "CePd45upbTwQ",
        "outputId": "22c419d2-041c-4f38-8435-5956ce19bca4"
      },
      "execution_count": 18,
      "outputs": [
        {
          "output_type": "display_data",
          "data": {
            "text/plain": [
              "<Figure size 1200x800 with 1 Axes>"
            ],
            "image/png": "[encoded data removed]"
          },
          "metadata": {}
        }
      ]
    },
    {
      "cell_type": "code",
      "source": [
        "# - Add brief analysis of what the plots reveal about your model's performance"
      ],
      "metadata": {
        "id": "aULzCientKR8"
      },
      "execution_count": 19,
      "outputs": []
    },
    {
      "cell_type": "markdown",
      "source": [
        "**NOTE:**\n",
        "* Both train and validation loss decrease steadily → model is learning\n",
        "* Final losses plateau around 0.67 → possible underfitting\n",
        "* Feature normalization was successful → helps training stability"
      ],
      "metadata": {
        "id": "z2cc2HiLq-MO"
      }
    },
    {
      "cell_type": "markdown",
      "source": [
        "**Checking for overfitting:**"
      ],
      "metadata": {
        "id": "71NRee-onEkP"
      }
    },
    {
      "cell_type": "code",
      "source": [
        "# - Discuss any overfitting/underfitting issues observed\n",
        "\n",
        "if val_losses[-1] > train_losses[-1]:\n",
        "    print(\"Warning: Validation loss is higher than training loss — possible overfitting.\")\n",
        "elif val_losses[-1] < train_losses[-1]:\n",
        "    print(\"Validation loss is lower than training loss — could be underfitting or easy validation set.\")\n",
        "else:\n",
        "    print(\"Training and validation losses are close — model may be well-tuned.\")\n"
      ],
      "metadata": {
        "colab": {
          "base_uri": "https://localhost:8080/"
        },
        "id": "3DbqDRPanHzQ",
        "outputId": "8340c42b-58a6-4688-d802-9c4d9e146e4e"
      },
      "execution_count": 20,
      "outputs": [
        {
          "output_type": "stream",
          "name": "stdout",
          "text": [
            "Validation loss is lower than training loss — could be underfitting or easy validation set.\n"
          ]
        }
      ]
    },
    {
      "cell_type": "markdown",
      "source": [
        "**NOTE:**\n",
        "* Validation loss is lower than training loss → no overfitting detected\n",
        "* This may indicate **underfitting** or that the **validation set is easier** than the training set\n",
        "* Model might still benefit from more training, better features, or a tuned architecture"
      ],
      "metadata": {
        "id": "id51ckvSrpYw"
      }
    },
    {
      "cell_type": "markdown",
      "source": [
        "**Prediction on test set:**"
      ],
      "metadata": {
        "id": "lpGLv5m8btyj"
      }
    },
    {
      "cell_type": "code",
      "source": [
        "\n",
        "pred = nn.forward_batch(X_test)\n",
        "pred.shape, y_test.shape\n"
      ],
      "metadata": {
        "colab": {
          "base_uri": "https://localhost:8080/"
        },
        "id": "yKL4mId9buwT",
        "outputId": "248a69d7-df5c-4da4-ced5-3a949577219c"
      },
      "execution_count": 21,
      "outputs": [
        {
          "output_type": "execute_result",
          "data": {
            "text/plain": [
              "((1, 4345), (1, 4345))"
            ]
          },
          "metadata": {},
          "execution_count": 21
        }
      ]
    },
    {
      "cell_type": "markdown",
      "source": [
        "**ROC Curve:**\n",
        "\n",
        "We will plot ROC curve - Doing Binary Classification"
      ],
      "metadata": {
        "id": "EuHDBI7vbx5x"
      }
    },
    {
      "cell_type": "code",
      "source": [
        "# - Create additional relevant plots (validation loss, learning curves, etc.)\n",
        "pred = pred[0]\n",
        "y_test = y_test[0]\n",
        "\n",
        "fpr, tpr, thresholds = roc_curve(y_test, pred)\n",
        "plt.plot(fpr, tpr)\n",
        "plt.xlabel('fpr')\n",
        "plt.ylabel('tpr')\n",
        "plt.show()\n",
        "\n",
        "auc = roc_auc_score(y_test, pred)\n",
        "print(\"AUC=\", auc)"
      ],
      "metadata": {
        "colab": {
          "base_uri": "https://localhost:8080/",
          "height": 466
        },
        "id": "kFsknLAJbzPC",
        "outputId": "81861a26-db75-40e9-90fd-935839a67084"
      },
      "execution_count": 22,
      "outputs": [
        {
          "output_type": "display_data",
          "data": {
            "text/plain": [
              "<Figure size 640x480 with 1 Axes>"
            ],
            "image/png": "[encoded data removed]"
          },
          "metadata": {}
        },
        {
          "output_type": "stream",
          "name": "stdout",
          "text": [
            "AUC= 0.6200493324972801\n"
          ]
        }
      ]
    },
    {
      "cell_type": "markdown",
      "source": [
        "**NOTE:**\n",
        "\n",
        "**Brief conclusions** based on the ROC curve and AUC score:\n",
        "\n",
        "---\n",
        "\n",
        "* ROC curve is close to the diagonal → model has limited discriminative power\n",
        "* AUC = **0.62** → slightly better than random (0.5), but still weak performance\n",
        "* Indicates the model is learning **some signal**, but not enough for reliable classification\n",
        "* Likely underfitting → consider improving feature quality, increasing training time, or adjusting model architecture/hyperparameters"
      ],
      "metadata": {
        "id": "3kmMNp6dsbjM"
      }
    },
    {
      "cell_type": "markdown",
      "source": [
        "**Confution matrix:**"
      ],
      "metadata": {
        "id": "cnyRnxzVb97R"
      }
    },
    {
      "cell_type": "code",
      "source": [
        "import warnings\n",
        "from sklearn.exceptions import UndefinedMetricWarning\n",
        "warnings.filterwarnings(\"ignore\", category=UndefinedMetricWarning)\n",
        "\n",
        "fpr, tpr, thresholds = roc_curve(y_test, pred)\n",
        "j_scores = tpr - fpr\n",
        "best_threshold = thresholds[np.argmax(j_scores)]\n",
        "print(\"Best threshold (Youden's J):\", best_threshold)\n",
        "\n",
        "threshold = best_threshold\n",
        "\n",
        "y_pred = pred > threshold\n",
        "\n",
        "# - Analyze model strengths and weaknesses\n",
        "\n",
        "# confusion_matrix\n",
        "cm = confusion_matrix(y_test,y_pred)\n",
        "sns.heatmap(cm,  annot=True, linewidth=0.5)\n",
        "plt.show()\n",
        "\n",
        "# report\n",
        "print(classification_report(y_test,y_pred))"
      ],
      "metadata": {
        "colab": {
          "base_uri": "https://localhost:8080/",
          "height": 604
        },
        "id": "iTRCd9CBb-w6",
        "outputId": "4b3921ac-b591-4d83-d227-5aa3a277bbde"
      },
      "execution_count": 23,
      "outputs": [
        {
          "output_type": "stream",
          "name": "stdout",
          "text": [
            "Best threshold (Youden's J): 0.40782743366625585\n"
          ]
        },
        {
          "output_type": "display_data",
          "data": {
            "text/plain": [
              "<Figure size 640x480 with 2 Axes>"
            ],
            "image/png": "[encoded data removed]"
          },
          "metadata": {}
        },
        {
          "output_type": "stream",
          "name": "stdout",
          "text": [
            "              precision    recall  f1-score   support\n",
            "\n",
            "         0.0       0.69      0.65      0.67      2664\n",
            "         1.0       0.49      0.53      0.51      1681\n",
            "\n",
            "    accuracy                           0.61      4345\n",
            "   macro avg       0.59      0.59      0.59      4345\n",
            "weighted avg       0.61      0.61      0.61      4345\n",
            "\n"
          ]
        }
      ]
    },
    {
      "cell_type": "markdown",
      "source": [
        "**NOTE:**\n",
        "\n",
        "* **Accuracy: 61%** → matches previous evaluation, confirms limited model performance\n",
        "* **Class 0 (negative)** is predicted better than **Class 1 (positive)**\n",
        "\n",
        "  * Precision: 0.69 vs 0.49\n",
        "  * Recall: 0.65 vs 0.53\n",
        "* **F1-score for Class 1** is only **0.51** → weak ability to detect positives\n",
        "* **Youden's J optimal threshold (0.4078)** improves balance slightly, but not dramatically\n",
        "* Model shows **bias toward predicting Class 0** (majority class)"
      ],
      "metadata": {
        "id": "5P5yT9ANtlc5"
      }
    },
    {
      "cell_type": "markdown",
      "source": [
        "### Model Evaluation\n"
      ],
      "metadata": {
        "id": "xQIAgWhe1i_2"
      }
    },
    {
      "cell_type": "code",
      "source": [
        "# TODO: Evaluate model performance on the test set\n",
        "\n",
        "# Final test set evaluation\n",
        "test_loss = nn.log_loss_batch(pred[np.newaxis, :], y_test[np.newaxis, :])\n",
        "test_accuracy = np.mean((pred > threshold) == y_test)\n",
        "\n",
        "# - Calculate and report the loss on the test set\n",
        "print(\"Final Test Loss:\", test_loss)\n",
        "\n",
        "# - Calculate and report the accuracy on the test set\n",
        "print(\"Final Test Accuracy:\", test_accuracy)"
      ],
      "metadata": {
        "colab": {
          "base_uri": "https://localhost:8080/"
        },
        "id": "UhwhSs7jmxZF",
        "outputId": "2a67320b-02a6-4bde-921a-e4c5eaa3906c"
      },
      "execution_count": 24,
      "outputs": [
        {
          "output_type": "stream",
          "name": "stdout",
          "text": [
            "Final Test Loss: 0.6682461664013686\n",
            "Final Test Accuracy: 0.6059838895281934\n"
          ]
        }
      ]
    },
    {
      "cell_type": "markdown",
      "source": [
        "**NOTE:**\n",
        "\n",
        "* **Final Test Loss: 0.6682** → slightly better than random guess (0.693), but still high\n",
        "* **Final Test Accuracy: \\~60.6%** → confirms previous evaluations (model is learning weak patterns)\n",
        "* Performance aligns with ROC AUC (0.62) and classification report\n",
        "* Overall, the model shows **modest improvement over random**, but still **underfitting**"
      ],
      "metadata": {
        "id": "Bs-alMdpuWMq"
      }
    },
    {
      "cell_type": "markdown",
      "source": [
        "_______"
      ],
      "metadata": {
        "id": "P1x7OkIoxM2r"
      }
    },
    {
      "cell_type": "markdown",
      "source": [
        "# **For summary:**\n",
        "\n",
        "* The model trains correctly with steadily decreasing loss and no overfitting.\n",
        "* Final loss (\\~0.668) and AUC (0.62) show performance only slightly better than random.\n",
        "* Accuracy (\\~60%) confirms weak predictive power, especially for the positive class.\n",
        "* Model likely underfits — deeper training, better features, or hyperparameter tuning is needed.\n",
        "\n",
        "**Options for improving the model to achieve better results:**\n",
        "* Train for more epochs (e.g., 200+)\n",
        "* Remove redundant features (e.g., drop `atemp`)\n",
        "* Add regularization (e.g., L2) or dropout\n",
        "* Try a simpler or wider architecture\n",
        "* Balance the dataset or apply class weighting"
      ],
      "metadata": {
        "id": "uV2U-yk0uxtZ"
      }
    }
  ]
}